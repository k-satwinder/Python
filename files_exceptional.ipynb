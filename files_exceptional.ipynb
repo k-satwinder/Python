{
  "nbformat": 4,
  "nbformat_minor": 0,
  "metadata": {
    "colab": {
      "provenance": []
    },
    "kernelspec": {
      "name": "python3",
      "display_name": "Python 3"
    },
    "language_info": {
      "name": "python"
    }
  },
  "cells": [
    {
      "cell_type": "markdown",
      "source": [
        "***FILES, EXCEPTIONAL HANDLING, LOGGING AND MEMORY MANAGEMENT QUESTIONS***\n",
        "\n",
        "\n",
        "---\n",
        "\n"
      ],
      "metadata": {
        "id": "-ZRlva9-gpat"
      }
    },
    {
      "cell_type": "markdown",
      "source": [
        "QUES1.What is the difference between interpreted and compiled languages?\n",
        "\n",
        "\n",
        "---\n",
        "ANS: Interpreted language source code is translated line by line during execution while compiled language source code translated to machine code before running.\n",
        "* Interpreted language uses interpreter as a translator, compiled language uses compiler as a translator.\n",
        "* Code is executed without separate compilation whereas compiled language required to be translate before running.\n",
        "* Interpreted languages are Python, javascript while compiled languages are c,c++,c#\n",
        "\n",
        "\n",
        "\n",
        "\n"
      ],
      "metadata": {
        "id": "8pZ7RRFegzUP"
      }
    },
    {
      "cell_type": "markdown",
      "source": [
        "QUES2.What is exception handling in Python?\n",
        "\n",
        "\n",
        "---\n",
        "ANS: Exception Handling in Python refers to managing unexpected errors that may ocuur during execution of a code.Exception means an event that disrupts normal flow of a program during it's execution. By unexpected errors means like dividing a number by zero.\n",
        "Syntax for exception handling in python:\n",
        "```\n",
        "try:\n",
        "    # task to be performed\n",
        "except:\n",
        "    # exception caught here\n",
        "else:\n",
        "    # no exception caught then else will execute\n",
        "finally:\n",
        "    # will always execute\n",
        "```\n",
        "\n"
      ],
      "metadata": {
        "id": "YQJAQ4YojB5A"
      }
    },
    {
      "cell_type": "markdown",
      "source": [
        "QUES3.What is the purpose of the finally block in exception handling?\n",
        "\n",
        "\n",
        "---\n",
        "ANS: The finally block ensures that certain code always runs, no matter whether exception is raised or not , it will always be executed.\n",
        "```\n",
        "just simple example\n",
        "try:\n",
        "   c = a/0\n",
        "except Exception as e:\n",
        "   print(\"Catch Error\")\n",
        "finally:\n",
        "   print(\" Finally will always execute\")\n",
        "```\n",
        "\n"
      ],
      "metadata": {
        "id": "wgP2Kl3Kke64"
      }
    },
    {
      "cell_type": "markdown",
      "source": [
        "QUES4. What is logging in Python?\n",
        "\n",
        "\n",
        "---\n",
        "ANS: Logging in Python means tracking events that happen when some software runs.It involves recording information about sepcific events, this information is known as logs.For Example: record of transactions in Banking Software.Python provides built-in module of logging.\n",
        "```\n",
        "import logging\n",
        "# various levels\n",
        "logging.basicConfig()  \n",
        "logging.debug() # detaile message\n",
        "logging.info() # confirmation\n",
        "logging.warning() # indiaction of exception\n",
        "logging.error() # error message\n",
        "logging.shutdown() # shutdown of logging systems\n",
        "```\n",
        "\n",
        "\n"
      ],
      "metadata": {
        "id": "XGplgrcumep4"
      }
    },
    {
      "cell_type": "markdown",
      "source": [
        "QUES5.What is the significance of the __ del __ method in Python?\n",
        "\n",
        "\n",
        "---\n",
        "ANS: The __ del __ method is a dunder method often called as destructor. It is automatically invoked by garbage collector when an object is destroyed.\n"
      ],
      "metadata": {
        "id": "EcfJDvsGpM0d"
      }
    },
    {
      "cell_type": "markdown",
      "source": [
        "QUES6.What is the difference between import and from ... import in Python?\n",
        "\n",
        "\n",
        "---\n",
        "ANS:\n",
        "* import statement is used to import entire module, import modulename\n",
        "* from..import is used to import only specific part from the module,from modulename import function\n",
        "word import means to bring in external code.\n",
        "```\n",
        "import math     #import statement\n",
        "# from math import sqrt    #form..import statement\n",
        "```\n",
        "\n",
        "\n",
        "\n",
        "\n"
      ],
      "metadata": {
        "id": "khwDbubxqITP"
      }
    },
    {
      "cell_type": "markdown",
      "source": [
        "QUES7. How can you handle multiple exceptions in Python?\n",
        "\n",
        "\n",
        "---\n",
        "ANS: To handle multiple exceptions in Python, use multiple except block or use single except block with tuple.\n",
        "```\n",
        "# multiple except block\n",
        "try:\n",
        "   num = int(input(\"Enter number:\"))\n",
        "   result = 10/num\n",
        "except ValueError:\n",
        "   print(\"number is not\")\n",
        "except ZeroDivisionError:\n",
        "   print(\"Can't divide by zer0\")\n",
        "# using single except with tuple\n",
        "try:\n",
        "   num = int(input(\"Enter number:\"))\n",
        "   result = 10/num\n",
        "except (ZeroDivisionError,ValueError) as e:\n",
        "   print(f\"Error occured,{e}\")\n",
        "```\n",
        "\n",
        "\n",
        "\n"
      ],
      "metadata": {
        "id": "EpAQqUsdr2HF"
      }
    },
    {
      "cell_type": "markdown",
      "source": [
        "QUES8.What is the purpose of the with statement when handling files in Python?\n",
        "\n",
        "\n",
        "---\n",
        "ANS: The with statement is used to simplify file handling and ensures that files are properly managed even if error occured.Without with statement their is need to close file using .close() but using with function it will automatically close the file no need to close it explicitly.\n",
        "```\n",
        "# without with\n",
        "f = open(\"text.txt\",r)\n",
        "f.read()\n",
        "f.close()\n",
        "# using with\n",
        "with open(\"test.txt\",r) as f:\n",
        "     f.read()\n",
        "```\n",
        "\n",
        "\n"
      ],
      "metadata": {
        "id": "kfguyy5qtRba"
      }
    },
    {
      "cell_type": "markdown",
      "source": [
        "QUES9.What is the difference between multithreading and multiprocessing?\n",
        "\n",
        "\n",
        "---\n",
        "ANS:\n",
        "* Multithreading means executing multiple threads in a single process while Multiprocessing means executing multiple separate process.\n",
        "* Multithreading occurs by sharing same memory space while multiprocessing shares separate memory spaces.\n",
        "* Multithreading is best for i/o bound tasks while multiprocessing is best for cpu bound tasks.\n",
        "* Example:Multithreading, downlaoding files from same brower with different sites.Multiprocessing, calculating size of each file.\n",
        "\n",
        "\n",
        "\n"
      ],
      "metadata": {
        "id": "L-8ffWT5wJHB"
      }
    },
    {
      "cell_type": "markdown",
      "source": [
        "QUES10.What are the advantages of using logging in a program?\n",
        "\n",
        "\n",
        "---\n",
        "ANS:\n",
        "* Tracks program flow for easier debugging\n",
        "* Records information of errors and warnings\n",
        "* Helps in monitoring the software performance\n",
        "* Different levels of logging like debug,error,warning shows their detail message about unexpected exception\n",
        "\n",
        "\n",
        "\n"
      ],
      "metadata": {
        "id": "WinFOHxSMlRg"
      }
    },
    {
      "cell_type": "markdown",
      "source": [
        "QUES11. What is memory management in Python?\n",
        "\n",
        "\n",
        "---\n",
        "ANS:Memory management refers to the process of allocating and deallocating memory to program while it run, clear from name that it means managing the memory.\n"
      ],
      "metadata": {
        "id": "3ts-7IsbNcNg"
      }
    },
    {
      "cell_type": "markdown",
      "source": [
        "QUES12.What are the basic steps involved in exception handling in Python?\n",
        "\n",
        "\n",
        "---\n",
        "ANS:\n",
        "* write the section of cocde that raises exception inside try block.\n",
        "* catch the exception under except block using some specific code to catch.\n",
        "* provide meaningfull logic to handle error\n",
        "* use multiple except block of single except block with tuple to catch multiple exceptions.\n",
        "* use else block if no exception raised in try code.\n",
        "* use finally block, it will run no matter; best for releasing resource like files.\n",
        "```\n",
        "try:\n",
        "  num = int(input(\"Enter denominator\"))\n",
        "  result = 100/num\n",
        "except ValueError:\n",
        "  print(\"Invalid number\")\n",
        "except ZeroDivisionError:\n",
        "  print(\"Can't divide by zero\")\n",
        "else:\n",
        "  print(\"Operation Successfull\")\n",
        "finally:\n",
        "  print(\"Program Finished\")\n",
        "```\n",
        "\n",
        "\n",
        "\n",
        "\n"
      ],
      "metadata": {
        "id": "v8jO3kh5Oh0d"
      }
    },
    {
      "cell_type": "markdown",
      "source": [
        "QUES13.Why is memory management important in Python?\n",
        "\n",
        "\n",
        "---\n",
        "ANS:\n",
        "* It frees the unused memory and avoid slow performance.\n",
        "* It leads to the faster execution of program.\n",
        "* Reduces the risk of out of memory type error.\n",
        "* Enable safe memory sharing accross multithreading/multiprocessing process.\n",
        "\n",
        "\n"
      ],
      "metadata": {
        "id": "znV8ecMidCWc"
      }
    },
    {
      "cell_type": "markdown",
      "source": [
        "QUES14.What is the role of try and except in exception handling?\n",
        "\n",
        "\n",
        "---\n",
        "ANS:\n",
        "* try block actually contains the code that raises exception in program\n",
        "* except block catches the exception raised by try block.\n",
        "```\n",
        "try:\n",
        "  print(\"Hlo!)\n",
        "except SyntaxError:\n",
        "  print(\"Missing inverted comma\")\n",
        "\n",
        "```\n",
        "\n",
        "\n",
        "\n",
        "\n"
      ],
      "metadata": {
        "id": "n0DJQnUVesLC"
      }
    },
    {
      "cell_type": "markdown",
      "source": [
        "QUES15.How does Python's garbage collection system work?\n",
        "\n",
        "\n",
        "---\n",
        "ANS: Python's garbage collection system automatically manages memory by reclaiming unused objects, helping prevent memory leaks and keeping your programs efficient.\n"
      ],
      "metadata": {
        "id": "rJ_oFh6_fROP"
      }
    },
    {
      "cell_type": "markdown",
      "source": [
        "QUES16.What is the purpose of the else block in exception handling?\n",
        "\n",
        "\n",
        "---\n",
        "ANS: else block runs when no exception is raised in try block and no exception caught by except block.\n",
        "```\n",
        "try:\n",
        "   c = 10/10\n",
        "except Exception as e:\n",
        "   print(f\"Error {e} occured\")\n",
        "else:\n",
        "   print(\"Program successfull\")\n",
        "```\n",
        "\n",
        "\n"
      ],
      "metadata": {
        "id": "sYPrX7rVfsfT"
      }
    },
    {
      "cell_type": "markdown",
      "source": [
        "QUES17.What are the common logging levels in Python?\n",
        "\n",
        "\n",
        "---\n",
        "ANS: Common logging levels are:\n",
        "* DEBUG: lowest level of logging, give detail information of any problem,while debugging\n",
        "* INFO: used to convey that the code is working as expected.\n",
        "* WARNING: used to indicate that something unexpected happened.\n",
        "* ERROR: serious problem with some function\n",
        "* CRITICAL: terminal of code indicating serious error.\n",
        "\n",
        "\n",
        "\n",
        "\n",
        "\n"
      ],
      "metadata": {
        "id": "uEyDwFM9gdU5"
      }
    },
    {
      "cell_type": "markdown",
      "source": [
        "QUES18.What is the difference between os.fork() and multiprocessing in Python?\n",
        "\n",
        "\n",
        "---\n",
        "ANS:\n",
        "* os.fork() - this method created a new process by duplicating the calling process.\n",
        "* Multiprocessing allows to manage and synchronize multiple processes parallely.\n",
        "\n",
        "\n"
      ],
      "metadata": {
        "id": "3qcJi0EeiH8n"
      }
    },
    {
      "cell_type": "markdown",
      "source": [
        "QUES19.What is the importance of closing a file in Python?\n",
        "\n",
        "\n",
        "---\n",
        "ANS: Closing file in python is important because it ensures that the data is saved in file.To close file filename.close() function is used but for best way of closing it automatically is using with statement.\n"
      ],
      "metadata": {
        "id": "OX3AVH7ni3Tl"
      }
    },
    {
      "cell_type": "markdown",
      "source": [
        "QUES20.What is the difference between file.read() and file.readline() in Python?\n",
        "\n",
        "\n",
        "---\n",
        "ANS:\n",
        "* file.read() - reads entire file content;useful for reading file at once.\n",
        "* file.readline() - reads one line at a time from file;best for reading the file till specific point.\n",
        "\n",
        "\n"
      ],
      "metadata": {
        "id": "I2ePwbWXkAi_"
      }
    },
    {
      "cell_type": "markdown",
      "source": [
        "QUES21.What is the logging module in Python used for?\n",
        "\n",
        "\n",
        "---\n",
        "ANS: The logging module in python is used for logging purpose to make the logs at differnet levels that records information of software. To use logging module import statement is used such as , import logging.\n",
        "\n"
      ],
      "metadata": {
        "id": "-aWrZRWokovl"
      }
    },
    {
      "cell_type": "markdown",
      "source": [
        "QUES22.What is the os module in Python used for in file handling?\n",
        "\n",
        "\n",
        "---\n",
        "ANS: The os module in Python is used for interacting with the operating system. It allows to manipulate folders and files, check if a file exists, and list directory contents. This module is essential for automating tasks like organizing files, cleaning up directories, or accessing system-level file paths.\n",
        "\n"
      ],
      "metadata": {
        "id": "yld7SQu2lCYZ"
      }
    },
    {
      "cell_type": "markdown",
      "source": [
        "QUES23.What are the challenges associated with memory management in Python?\n",
        "\n",
        "\n",
        "---\n",
        "ANS:\n",
        "*  shared memory accross threads sometime cause insufficient memory use\n",
        "*  GIL in multithreading only enter one thread at a time.\n",
        "*  poor coding practices lead to memory conflicts\n",
        "*  multiprocessing using separate memory space cause conflits in excessive use.\n",
        "\n",
        "\n",
        "\n"
      ],
      "metadata": {
        "id": "3jdkRH5KlrBY"
      }
    },
    {
      "cell_type": "markdown",
      "source": [
        "QUES24.How do you raise an exception manually in Python?\n",
        "\n",
        "\n",
        "---\n",
        "ANS: To manually raise an exception in python, raise keyword is used. use this such as, raise ExceptionType(\"Error Message\").\n",
        "```\n",
        "try:\n",
        "  c = a/0\n",
        "  raise ZeroDivisionError(\"Can't Divide by zero\")\n",
        "except Exception as e:\n",
        "  print(\"Exception raised \",e)\n",
        "\n",
        "```\n",
        "\n",
        "\n"
      ],
      "metadata": {
        "id": "NwKJjsRRm4jA"
      }
    },
    {
      "cell_type": "markdown",
      "source": [
        "QUES25. Why is it important to use multithreading in certain applications?\n",
        "\n",
        "\n",
        "---\n",
        "ANS:\n",
        "* Improves Performance\n",
        "* Hanldes i/o bound tasks\n",
        "* Easier to manage\n",
        "* Supports real time process\n",
        "\n",
        "\n"
      ],
      "metadata": {
        "id": "38ak46dinXjd"
      }
    },
    {
      "cell_type": "markdown",
      "source": [
        "***PRACTICAL QUESTIONS***\n",
        "\n",
        "\n",
        "---\n",
        "\n"
      ],
      "metadata": {
        "id": "dfUWJPBQoZ9c"
      }
    },
    {
      "cell_type": "code",
      "source": [
        "#1.How can you open a file for writing in Python and write a string to it?\n",
        "\n",
        "with open(\"Example.txt\",\"w\") as file:\n",
        "  file.write(\"Hello, Writing a string to file \\n This file is just for practice purpose\")"
      ],
      "metadata": {
        "id": "XoQ3eS0tsFdf"
      },
      "execution_count": 1,
      "outputs": []
    },
    {
      "cell_type": "code",
      "source": [
        "#2.Write a Python program to read the contents of a file and print each line?\n",
        "\n",
        "with open(\"Example.txt\",\"r\") as file:\n",
        "  line = file.read()\n",
        "  print(line)"
      ],
      "metadata": {
        "colab": {
          "base_uri": "https://localhost:8080/"
        },
        "id": "dhyb4IbGsLpF",
        "outputId": "fc02acee-ea81-49f4-8b57-c06952b27e4d"
      },
      "execution_count": 2,
      "outputs": [
        {
          "output_type": "stream",
          "name": "stdout",
          "text": [
            "Hello, Writing a string to file \n",
            " This file is just for practice purpose\n"
          ]
        }
      ]
    },
    {
      "cell_type": "code",
      "source": [
        "#3.How would you handle a case where the file doesn't exist while trying to open it for reading?\n",
        "\n",
        "try:\n",
        "  with open(\"test.txt\",\"r\") as f:\n",
        "    f.read()\n",
        "except FileNotFoundError:\n",
        "  print(\"File you try to read doesn't exist\")\n",
        "finally:\n",
        "  print(\"Error Handled!\")"
      ],
      "metadata": {
        "colab": {
          "base_uri": "https://localhost:8080/"
        },
        "id": "n829M_WZuJ7t",
        "outputId": "d1ba60c9-0dd9-4be2-ce1d-4fba17af6242"
      },
      "execution_count": 3,
      "outputs": [
        {
          "output_type": "stream",
          "name": "stdout",
          "text": [
            "File you try to read doesn't exist\n",
            "Error Handled!\n"
          ]
        }
      ]
    },
    {
      "cell_type": "code",
      "source": [
        "#4.Write a Python script that reads from one file and writes its content to another file?\n",
        "\n",
        "# reading from existing\n",
        "with open(\"Example.txt\",\"r\") as f:\n",
        "  reading = f.read()\n",
        "# writing to new\n",
        "with open(\"new.txt\",\"w\") as f:\n",
        "  f.write(reading)"
      ],
      "metadata": {
        "id": "Jhn84w1_vCot"
      },
      "execution_count": 4,
      "outputs": []
    },
    {
      "cell_type": "code",
      "source": [
        "#5.How would you catch and handle division by zero error in Python?\n",
        "\n",
        "num = int(input(\"Enter Numerator:\"))\n",
        "try:\n",
        "  res = num/0\n",
        "except ZeroDivisionError:\n",
        "  print(\"Can't divide a number by zero!\")\n",
        "finally:\n",
        "  print(\"Error Handled!\")"
      ],
      "metadata": {
        "colab": {
          "base_uri": "https://localhost:8080/"
        },
        "id": "AjsEHfdN2zGx",
        "outputId": "2634c40c-4d23-42af-e2bf-d9247c294023"
      },
      "execution_count": 5,
      "outputs": [
        {
          "output_type": "stream",
          "name": "stdout",
          "text": [
            "Enter Numerator:10\n",
            "Can't divide a number by zero!\n",
            "Error Handled!\n"
          ]
        }
      ]
    },
    {
      "cell_type": "code",
      "source": [
        "#6.Write a Python program that logs an error message to a log file when a division by zero exception occurs.\n",
        "\n",
        "# importing logging module\n",
        "import logging\n",
        "# logging to write a file\n",
        "logging.basicConfig(filename=\"error.log\", level= logging.ERROR)\n",
        "# handling division error\n",
        "try:\n",
        "  result = 10/0\n",
        "  print(result)\n",
        "except ZeroDivisionError as e:\n",
        "  logging.error(\"Division by zero attempted\")   # error message in log file\n",
        "  logging.shutdown()\n",
        "  print(\"Can't Divide by zero\")"
      ],
      "metadata": {
        "colab": {
          "base_uri": "https://localhost:8080/"
        },
        "id": "TmvXzt595QRT",
        "outputId": "bbe4ea69-cff4-4986-9da6-622e363ce3c0"
      },
      "execution_count": 6,
      "outputs": [
        {
          "output_type": "stream",
          "name": "stderr",
          "text": [
            "ERROR:root:Division by zero attempted\n"
          ]
        },
        {
          "output_type": "stream",
          "name": "stdout",
          "text": [
            "Can't Divide by zero\n"
          ]
        }
      ]
    },
    {
      "cell_type": "code",
      "source": [
        "#7.How do you log information at different levels (INFO, ERROR, WARNING) in Python using the logging module?\n",
        "\n",
        "import logging\n",
        "\n",
        "logging.basicConfig(filename=\"information.log\",level=logging.DEBUG, format='%(asctime)s %(message)s')\n",
        "logging.info(\"This is info message\")\n",
        "logging.error(\"This is error message\")\n",
        "logging.warning(\"This is warning message\")\n",
        "logging.shutdown()"
      ],
      "metadata": {
        "colab": {
          "base_uri": "https://localhost:8080/"
        },
        "id": "mg4itJT_8kub",
        "outputId": "2e3d85f5-042a-42f6-d5ea-87fae9d7878a"
      },
      "execution_count": 7,
      "outputs": [
        {
          "output_type": "stream",
          "name": "stderr",
          "text": [
            "ERROR:root:This is error message\n",
            "WARNING:root:This is warning message\n"
          ]
        }
      ]
    },
    {
      "cell_type": "code",
      "source": [
        "#8.Write a program to handle a file opening error using exception handling?\n",
        "\n",
        "try:\n",
        "  with open(\"text.txt\",\"r\") as file:     # trying to open non-existing file\n",
        "    line = file.readlines()\n",
        "    print(line)\n",
        "except Exception as e:                #catching exception\n",
        "  print(f'unexpected error {e} occured!')\n"
      ],
      "metadata": {
        "colab": {
          "base_uri": "https://localhost:8080/"
        },
        "id": "PX_htIfH_JP3",
        "outputId": "aba16fbe-bd3b-4f80-90e3-3760db9842f7"
      },
      "execution_count": 8,
      "outputs": [
        {
          "output_type": "stream",
          "name": "stdout",
          "text": [
            "unexpected error [Errno 2] No such file or directory: 'text.txt' occured!\n"
          ]
        }
      ]
    },
    {
      "cell_type": "code",
      "source": [
        "#9. How can you read a file line by line and store its content in a list in Python?\n",
        "\n",
        "lines = [] # empty list\n",
        "with open(\"Example.txt\",\"r\") as f:\n",
        "  for line in f:\n",
        "    lines.append(line)  # appending values to list\n",
        "print(lines)\n",
        "#this can also be done using readlines() as in practical question 2 as readlines() print lines in form of a list"
      ],
      "metadata": {
        "colab": {
          "base_uri": "https://localhost:8080/"
        },
        "id": "pKwJ7kZ5AFP7",
        "outputId": "4bc8462a-b208-4f7f-8382-b24a938539f1"
      },
      "execution_count": 9,
      "outputs": [
        {
          "output_type": "stream",
          "name": "stdout",
          "text": [
            "['Hello, Writing a string to file \\n', ' This file is just for practice purpose']\n"
          ]
        }
      ]
    },
    {
      "cell_type": "code",
      "source": [
        "#10.How can you append data to an existing file in Python?\n",
        "\n",
        "# by opening file in append mode\n",
        "with open(\"Example.txt\",\"a\") as f:\n",
        "  f.write(\"\\nThis is appended text\")"
      ],
      "metadata": {
        "id": "2DpNFPTqD3_F"
      },
      "execution_count": 10,
      "outputs": []
    },
    {
      "cell_type": "code",
      "source": [
        "#11.Write a Python program that uses a try-except block to handle an error when attempting to access a dictionary key that doesn't exist.\n",
        "\n",
        "dicti = {\"Name\":\"Alia\",\"Age\":27,\"Country\":\"India\"}\n",
        "print(dicti)\n",
        "try:\n",
        "  print(dicti[\"City\"])   # attempt to print nonexisting key\n",
        "except KeyError:\n",
        "  print(\"City is not found in dictionary\")  #error message"
      ],
      "metadata": {
        "colab": {
          "base_uri": "https://localhost:8080/"
        },
        "id": "B22R-h75EZAV",
        "outputId": "067d0452-1c97-42c2-9c96-b9f01da8aa73"
      },
      "execution_count": 11,
      "outputs": [
        {
          "output_type": "stream",
          "name": "stdout",
          "text": [
            "{'Name': 'Alia', 'Age': 27, 'Country': 'India'}\n",
            "City is not found in dictionary\n"
          ]
        }
      ]
    },
    {
      "cell_type": "code",
      "source": [
        "#12.Write a program that demonstrates using multiple except blocks to handle different types of exceptions.\n",
        "\n",
        "# creating function that handle error using multiple except block\n",
        "def multiple_except():\n",
        "  try:\n",
        "    num = int(input(\"Enter a number: \"))  # can raise ValueError\n",
        "    result = 100 / num                    # can raise ZeroDivisionError\n",
        "    data = {\"name\": \"Alisa\"}\n",
        "    print(data[\"age\"])        # can raise KeyError\n",
        "    my_list = [1, 2, 3]\n",
        "    print(my_list[5])         # can raise IndexError\n",
        "  except ValueError:\n",
        "    print(\"Error: Please enter a valid integer.\")\n",
        "  except ZeroDivisionError:\n",
        "    print(\"Error: Cannot divide by zero.\")\n",
        "  except KeyError:\n",
        "    print(\"Error: The requested key is missing in the dictionary.\")\n",
        "  except IndexError:\n",
        "    print(\"Error: You're trying to access a list index that doesn't exist.\")\n",
        "  except Exception as e:\n",
        "    print(\"Unexpected error:\", e)\n",
        "  finally:\n",
        "    print(\"Program completed with error handling.\")\n",
        "# Run the function\n",
        "multiple_except()"
      ],
      "metadata": {
        "colab": {
          "base_uri": "https://localhost:8080/"
        },
        "id": "513C9tKcGUBB",
        "outputId": "e9935f5c-2f8a-4f73-9381-57c93fa5b8fb"
      },
      "execution_count": 12,
      "outputs": [
        {
          "output_type": "stream",
          "name": "stdout",
          "text": [
            "Enter a number: 0\n",
            "Error: Cannot divide by zero.\n",
            "Program completed with error handling.\n"
          ]
        }
      ]
    },
    {
      "cell_type": "code",
      "source": [
        "#13.How would you check if a file exists before attempting to read it in Python?\n",
        "\n",
        "import os   # operating system module to interact with os directories or files\n",
        "\n",
        "file_path = \"Example.txt\"   # storing path in variable\n",
        "if os.path.exists(file_path):   # using if with .path.exists() function of os module to check path exists\n",
        "  print(\"File exists!\")\n",
        "else:\n",
        "  print(\"File doesn't exists!\")"
      ],
      "metadata": {
        "colab": {
          "base_uri": "https://localhost:8080/"
        },
        "id": "wl-zQiYpLvjp",
        "outputId": "2e1a2e75-8362-4bb7-e04d-98547a6be820"
      },
      "execution_count": 13,
      "outputs": [
        {
          "output_type": "stream",
          "name": "stdout",
          "text": [
            "File exists!\n"
          ]
        }
      ]
    },
    {
      "cell_type": "code",
      "source": [
        "#14.Write a program that uses the logging module to log both informational and error messages.\n",
        "\n",
        "import logging\n",
        "\n",
        "logging.basicConfig(filename=\"New.log\",level=logging.INFO)  # creating log file\n",
        "logging.info(\"Program Starts Execution\")   # inforamtional message\n",
        "try:\n",
        "  x = 10/0\n",
        "except ZeroDivisionError:\n",
        "  logging.error(\"Trying to divide with 0\")   # error message\n",
        "finally:\n",
        "  logging.info(\"Program Finsihed!\")  # informational message\n",
        "logging.shutdown()"
      ],
      "metadata": {
        "colab": {
          "base_uri": "https://localhost:8080/"
        },
        "id": "_uG7seT7NHFK",
        "outputId": "69f8bfd3-0cf6-4fcd-b861-8f1ed711340b"
      },
      "execution_count": 14,
      "outputs": [
        {
          "output_type": "stream",
          "name": "stderr",
          "text": [
            "ERROR:root:Trying to divide with 0\n"
          ]
        }
      ]
    },
    {
      "cell_type": "code",
      "source": [
        "#15.Write a Python program that prints the content of a file and handles the case when the file is empty.\n",
        "\n",
        "try:\n",
        "  with open(\"example.txt\",\"r\") as f:\n",
        "    content = f.read()\n",
        "    if content:\n",
        "      print(content)\n",
        "    else:\n",
        "      print(\"file empty\")\n",
        "except Exception as e:\n",
        "  print(f'unexpected error {e}')"
      ],
      "metadata": {
        "id": "Q53nQnzsOOvz",
        "colab": {
          "base_uri": "https://localhost:8080/"
        },
        "outputId": "4273a36d-54a0-4a6c-9674-88e743e4ea60"
      },
      "execution_count": 15,
      "outputs": [
        {
          "output_type": "stream",
          "name": "stdout",
          "text": [
            "unexpected error [Errno 2] No such file or directory: 'example.txt'\n"
          ]
        }
      ]
    },
    {
      "cell_type": "code",
      "source": [
        "#16. Demonstrate how to use memory profiling to check the memory usage of a small program.\n"
      ],
      "metadata": {
        "id": "9mOEKnAeOsnh"
      },
      "execution_count": 16,
      "outputs": []
    },
    {
      "cell_type": "code",
      "source": [
        "#17.Write a Python program to create and write a list of numbers to a file, one number per line.\n",
        "\n",
        "numbers = [1, 2, 3, 4, 5]  # list\n",
        "with open('numbers.txt', 'w') as file:    # write to file\n",
        "    for number in numbers:\n",
        "        file.write(f\"{number}\\n\")\n",
        "print(\"Numbers written to 'numbers.txt' successfully.\")\n"
      ],
      "metadata": {
        "id": "WfQr6_lWOsVR",
        "colab": {
          "base_uri": "https://localhost:8080/"
        },
        "outputId": "3e3779b4-1236-4f18-da5d-c33701d76933"
      },
      "execution_count": 17,
      "outputs": [
        {
          "output_type": "stream",
          "name": "stdout",
          "text": [
            "Numbers written to 'numbers.txt' successfully.\n"
          ]
        }
      ]
    },
    {
      "cell_type": "code",
      "source": [
        "#18.How would you implement a basic logging setup that logs to a file with rotation after 1MB?\n"
      ],
      "metadata": {
        "id": "bo4yXpflPBIs"
      },
      "execution_count": 18,
      "outputs": []
    },
    {
      "cell_type": "code",
      "source": [
        "#19.Write a program that handles both IndexError and KeyError using a try-except block.\n",
        "\n",
        "try:\n",
        "  dic = {\"Name\":\"Roshni\",\"Age\":30}\n",
        "  print(dic[\"City\"])   #raise keyerror\n",
        "  lis = [1,2,3,4]\n",
        "  print(lis[6])   # raise indexerror\n",
        "except (IndexError,KeyError) as e:\n",
        "  print(\"unexpected error:\",e)"
      ],
      "metadata": {
        "id": "745Ede8HPFvr",
        "colab": {
          "base_uri": "https://localhost:8080/"
        },
        "outputId": "670f92b6-aa8d-49f1-8219-43cd40b16a29"
      },
      "execution_count": 19,
      "outputs": [
        {
          "output_type": "stream",
          "name": "stdout",
          "text": [
            "unexpected error: 'City'\n"
          ]
        }
      ]
    },
    {
      "cell_type": "code",
      "source": [
        "#20.How would you open a file and read its contents using a context manager in Python\n",
        "\n",
        "with open(\"new.txt\",\"r\") as f:\n",
        "  reading = f.read()\n",
        "  print(reading)"
      ],
      "metadata": {
        "id": "oWSj9g3dPO-R",
        "colab": {
          "base_uri": "https://localhost:8080/"
        },
        "outputId": "42770dae-8e36-4d8c-bdde-3a8eab06f516"
      },
      "execution_count": 20,
      "outputs": [
        {
          "output_type": "stream",
          "name": "stdout",
          "text": [
            "Hello, Writing a string to file \n",
            " This file is just for practice purpose\n"
          ]
        }
      ]
    },
    {
      "cell_type": "code",
      "source": [
        "#21.Write a Python program that reads a file and prints the number of occurrences of a specific word?\n",
        "\n",
        "word = \"This\"  # specific word\n",
        "with open(\"Example.txt\",\"r\") as file:\n",
        "  content = file.read()   # reading file\n",
        "  print(content.count(word))   # no of occurence of word\n"
      ],
      "metadata": {
        "id": "4LaKdc3WPT1p",
        "colab": {
          "base_uri": "https://localhost:8080/"
        },
        "outputId": "5df138c9-7b34-4771-f8de-483a47efca28"
      },
      "execution_count": 21,
      "outputs": [
        {
          "output_type": "stream",
          "name": "stdout",
          "text": [
            "2\n"
          ]
        }
      ]
    },
    {
      "cell_type": "code",
      "source": [
        "#22.How can you check if a file is empty before attempting to read its contents.\n",
        "\n",
        "import os   # operating system module to interact with os directories or files\n",
        "\n",
        "file_path = \"Example.txt\"   # storing path in variable\n",
        "if os.path.exists(file_path):   # using if with .path.exists() function of os module to check path exists\n",
        "  print(\"File exists!\")\n",
        "else:\n",
        "  print(\"File doesn't exists!\")"
      ],
      "metadata": {
        "colab": {
          "base_uri": "https://localhost:8080/"
        },
        "id": "0P-5d_A0Pa_C",
        "outputId": "e328140c-b67c-4f45-a003-e7773fa200ce"
      },
      "execution_count": 22,
      "outputs": [
        {
          "output_type": "stream",
          "name": "stdout",
          "text": [
            "File exists!\n"
          ]
        }
      ]
    },
    {
      "cell_type": "code",
      "source": [
        "#23.Write a Python program that writes to a log file when an error occurs during file handling.\n",
        "\n",
        "import logging\n",
        "# creating log file\n",
        "logging.basicConfig(filename=\"test.log\",level=logging.ERROR,format='%(asctime)s %(message)s')\n",
        "\n",
        "try:\n",
        "  with open(\"test.log\",\"r\") as file:\n",
        "    content = file.read()\n",
        "    print(content)\n",
        "except FileNotFoundError:\n",
        "  logging.error(\"ERROR: file not found\")\n",
        "except PermissionError:\n",
        "  logging.error(\"ERROR: Not permited\")\n",
        "except Exception as e:\n",
        "  logging.error(f'unexpected {e} occured')\n",
        "logging.shutdown()"
      ],
      "metadata": {
        "id": "Hx5wZB5TPgRU",
        "colab": {
          "base_uri": "https://localhost:8080/"
        },
        "outputId": "0009d948-05a5-4405-d691-c2e4b525e753"
      },
      "execution_count": 23,
      "outputs": [
        {
          "output_type": "stream",
          "name": "stderr",
          "text": [
            "ERROR:root:ERROR: file not found\n"
          ]
        }
      ]
    }
  ]
}