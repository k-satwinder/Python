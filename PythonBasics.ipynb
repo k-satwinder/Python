{
  "nbformat": 4,
  "nbformat_minor": 0,
  "metadata": {
    "colab": {
      "provenance": []
    },
    "kernelspec": {
      "name": "python3",
      "display_name": "Python 3"
    },
    "language_info": {
      "name": "python"
    }
  },
  "cells": [
    {
      "cell_type": "markdown",
      "source": [
        "***PYTHON BASIC QUESTIONS***\n",
        "\n",
        "---\n",
        "\n"
      ],
      "metadata": {
        "id": "yly9GkuW12es"
      }
    },
    {
      "cell_type": "markdown",
      "source": [
        "Ques1: What is Python, and why is it popular?\n",
        "\n",
        "\n",
        "---\n",
        "\n",
        "\n",
        "Ans: Python is a high-level, interpreted, interactive and object-oriented programming language. It is a beginner friendly programming language due to it's easy syntax and readability. It was developed by Guido van Rossum.It is known for it's simplicity, readability and versatility. It is popular because of following reasons:\n",
        "* Syntax is easy to learn and understand\n",
        "* Python is used in wide range of fields such as web development, data science and data analytics, machine learning and artificial intelligence and many more.\n",
        "* It is cross-platform language that can be run on various operating systems such as windows, linux, mac.\n",
        "* Frameworks like Django and flask are used for web development\n",
        "* Libraries like NumPy, Pandas Matplotlib, Seaborn used for visualization,analysis and data manipulation.\n",
        "* Frameworks like Pytorch, Tensorflow, scikit used for machine learning purpose\n",
        "* It's concise syntax and rich set of libraries make it more popular in industry.\n",
        "\n",
        "\n",
        "\n",
        "\n",
        "\n",
        "\n",
        "\n",
        "\n",
        "\n"
      ],
      "metadata": {
        "id": "pS5uVrXkXZiD"
      }
    },
    {
      "cell_type": "markdown",
      "source": [
        "Ques2: What is an interpreter in Python?\n",
        "\n",
        "\n",
        "---\n",
        "Ans: Python is a Interpreted language. By term interpreted it means program is executed line by line instead of a whole code. Interpreters are computer programs also known as translators that converts the source code or high level language to machine code or a machine level language that is understandable by machines. Interpreters execute each line of code one by one or it can be said that it execute the program line by line.\n"
      ],
      "metadata": {
        "id": "kBfSgHajer53"
      }
    },
    {
      "cell_type": "markdown",
      "source": [
        "Ques3:  What are pre-defined keywords in Python?\n",
        "\n",
        "\n",
        "---\n",
        "Ans: Keywords are also known as pre-defined words or reserve words. Keywords have some special meanings and functions that cannot be used for anything other than their specific purpose. Keywords are already defined in Python. If these words are used for names,variables,functions,classes or any other identifiers, interpreter will through an error. Some of keywords are: if,else,break,continue,def,import,for,while,etc."
      ],
      "metadata": {
        "id": "xrhKgSDag2rY"
      }
    },
    {
      "cell_type": "code",
      "source": [
        "'''\n",
        "Ques4: Can keywords be used as variable names?\n",
        "Ans: No, Keywords cannot be used as variable names. If we try to do so it will through an error.\n",
        "'''\n",
        "# example\n",
        "for = 10\n",
        "print(for)\n",
        "\n",
        "'''\n",
        "declare a variable name for and assigned value 10 to it.\n",
        "after running above example it through's error saying SyntaxError: invalid syntax.\n",
        "this is because for is a keyword. so it cannot be used as a variable.\n",
        "'''\n"
      ],
      "metadata": {
        "colab": {
          "base_uri": "https://localhost:8080/",
          "height": 106
        },
        "id": "DwnSQkQfj3nR",
        "outputId": "b61fec97-9540-4177-bf0f-ea72f19f5444"
      },
      "execution_count": null,
      "outputs": [
        {
          "output_type": "error",
          "ename": "SyntaxError",
          "evalue": "invalid syntax (ipython-input-1037727686.py, line 6)",
          "traceback": [
            "\u001b[0;36m  File \u001b[0;32m\"/tmp/ipython-input-1037727686.py\"\u001b[0;36m, line \u001b[0;32m6\u001b[0m\n\u001b[0;31m    for = 10\u001b[0m\n\u001b[0m        ^\u001b[0m\n\u001b[0;31mSyntaxError\u001b[0m\u001b[0;31m:\u001b[0m invalid syntax\n"
          ]
        }
      ]
    },
    {
      "cell_type": "code",
      "source": [
        "'''\n",
        "Ques5: What is mutability in Python?\n",
        "\n",
        "Ans: Mutability means the ability to be modified or to be changed.\n",
        "In python their are two kinds of objects that are mutable and imutable.\n",
        "Mutable objects can be changed after its creation which means elements can be added or removed.\n",
        "In python mutable objects are lists, dictionaries and sets.\n",
        "\n",
        "'''\n",
        "# example\n",
        "l1 = [1,2,3]\n",
        "l1.append(4)\n",
        "print(l1)\n",
        "\n",
        "'''\n",
        "created a list l1 and then try to modified it by appending 4 it will be modified,\n",
        "this shows the concept of mutability in python.\n",
        "\n",
        "'''\n"
      ],
      "metadata": {
        "colab": {
          "base_uri": "https://localhost:8080/"
        },
        "id": "71x2eztzq9I1",
        "outputId": "cb7a7362-8464-474a-8167-3e4e944fc07e"
      },
      "execution_count": null,
      "outputs": [
        {
          "output_type": "stream",
          "name": "stdout",
          "text": [
            "[1, 2, 3, 4]\n"
          ]
        }
      ]
    },
    {
      "cell_type": "code",
      "source": [
        "'''\n",
        "Ques6: Why are lists mutable, but tuples are immutable?\n",
        "\n",
        "Ans: The term mutable refers to the ability to be changed or modified whereas the term immutable refers to not to be changed or modified.\n",
        "Lists are mutable in nature means the elements in list can be updated or removed. Although, tuples are imutable in nature which means it cannot be modified.\n",
        "If we try so interpreter will through an error let's see it with example\n",
        "\n",
        "'''\n",
        "#example\n",
        "# case of list\n",
        "list1 = [1,2,3,4]\n",
        "print(\"List before:\",list1)\n",
        "list1[2]=30\n",
        "print(\"List after=\",list1)\n",
        "# case of tuples\n",
        "tuple1 = (1,2,3,4)\n",
        "print(\"Tuple before:\",tuple1)\n",
        "tuple1[2]=40\n",
        "print(\"Tuple after:\",tuple1)\n",
        "\n",
        "'''\n",
        "A list was updated by changing the value of particular position i.e 2 it is then updated\n",
        "A tuple before was printed but when try to change its element it through error\n",
        "\n",
        "'''\n",
        "\n"
      ],
      "metadata": {
        "colab": {
          "base_uri": "https://localhost:8080/",
          "height": 263
        },
        "id": "7GKYOIhksskh",
        "outputId": "62d851ba-27a4-4eb0-868c-ee19ec88f0e9"
      },
      "execution_count": null,
      "outputs": [
        {
          "output_type": "stream",
          "name": "stdout",
          "text": [
            "List before: [1, 2, 3, 4]\n",
            "List after= [1, 2, 30, 4]\n",
            "Tuple before: (1, 2, 3, 4)\n"
          ]
        },
        {
          "output_type": "error",
          "ename": "TypeError",
          "evalue": "'tuple' object does not support item assignment",
          "traceback": [
            "\u001b[0;31m---------------------------------------------------------------------------\u001b[0m",
            "\u001b[0;31mTypeError\u001b[0m                                 Traceback (most recent call last)",
            "\u001b[0;32m/tmp/ipython-input-3000049649.py\u001b[0m in \u001b[0;36m<cell line: 0>\u001b[0;34m()\u001b[0m\n\u001b[1;32m     16\u001b[0m \u001b[0mtuple1\u001b[0m \u001b[0;34m=\u001b[0m \u001b[0;34m(\u001b[0m\u001b[0;36m1\u001b[0m\u001b[0;34m,\u001b[0m\u001b[0;36m2\u001b[0m\u001b[0;34m,\u001b[0m\u001b[0;36m3\u001b[0m\u001b[0;34m,\u001b[0m\u001b[0;36m4\u001b[0m\u001b[0;34m)\u001b[0m\u001b[0;34m\u001b[0m\u001b[0;34m\u001b[0m\u001b[0m\n\u001b[1;32m     17\u001b[0m \u001b[0mprint\u001b[0m\u001b[0;34m(\u001b[0m\u001b[0;34m\"Tuple before:\"\u001b[0m\u001b[0;34m,\u001b[0m\u001b[0mtuple1\u001b[0m\u001b[0;34m)\u001b[0m\u001b[0;34m\u001b[0m\u001b[0;34m\u001b[0m\u001b[0m\n\u001b[0;32m---> 18\u001b[0;31m \u001b[0mtuple1\u001b[0m\u001b[0;34m[\u001b[0m\u001b[0;36m2\u001b[0m\u001b[0;34m]\u001b[0m\u001b[0;34m=\u001b[0m\u001b[0;36m40\u001b[0m\u001b[0;34m\u001b[0m\u001b[0;34m\u001b[0m\u001b[0m\n\u001b[0m\u001b[1;32m     19\u001b[0m \u001b[0mprint\u001b[0m\u001b[0;34m(\u001b[0m\u001b[0;34m\"Tuple after:\"\u001b[0m\u001b[0;34m,\u001b[0m\u001b[0mtuple1\u001b[0m\u001b[0;34m)\u001b[0m\u001b[0;34m\u001b[0m\u001b[0;34m\u001b[0m\u001b[0m\n\u001b[1;32m     20\u001b[0m \u001b[0;34m\u001b[0m\u001b[0m\n",
            "\u001b[0;31mTypeError\u001b[0m: 'tuple' object does not support item assignment"
          ]
        }
      ]
    },
    {
      "cell_type": "code",
      "source": [
        "'''\n",
        "Ques7: What is the difference between “==” and “is” operators in Python?\n",
        "\n",
        "Ans: Equality Operator (\"==\") is used to check whether the values of two objects are equal or not. If equal result will be true otherwise false\n",
        "Whereas Identity Operator(\"is\") is used to compare objects based on their identity and check whether two values point to the exact same object in memory or not.\n",
        "if same object in memory the result will be true otherwise false.\n",
        "Let's see it with example:\n",
        "a and b are assigning different values == check both values are equal or not whereas c assign to be a,\n",
        "c is a will check memory location of both variable whether both point to same in memory or not.\n",
        "\n",
        "'''\n",
        "# example\n",
        "# == operator\n",
        "a,b = 10,20\n",
        "print(a==b)\n",
        "# is operator\n",
        "c = a\n",
        "print(c is a)\n",
        "\n"
      ],
      "metadata": {
        "colab": {
          "base_uri": "https://localhost:8080/"
        },
        "id": "a4eW0O9xu9kJ",
        "outputId": "9a398c52-b3ab-48aa-9340-65309df8ab4c"
      },
      "execution_count": null,
      "outputs": [
        {
          "output_type": "stream",
          "name": "stdout",
          "text": [
            "False\n",
            "True\n"
          ]
        }
      ]
    },
    {
      "cell_type": "markdown",
      "source": [
        "Ques8: What are logical operators in Python?\n",
        "\n",
        "\n",
        "---\n",
        "Ans: Logical Operators in python manipulate values and provide result in boolean values based on the logical relationship between the operands. The primary logical operators in python are and,or,not.\n",
        "* and:- Logical and operator that performs logical relationship between operands. when both operands meet the condition to be true then the result of and operator will be true otherwise if any of both condition met false the result is false ( if a true b true then a and b true, otherwise false)\n",
        "* or:- Logical or operator that performs logical relationship between operands resulted to be true if any one condition of operand is true otherwise when both conditions of operands are false then the result will also be false (if a false b false then a or b false, otherwise true).\n",
        "* not:- Logical not operator provides result opposite to that of the condition such as if a is true then not a will be false, visa-versa.\n",
        "\n",
        "\n",
        "\n",
        "\n"
      ],
      "metadata": {
        "id": "fKzU2OyNyr3j"
      }
    },
    {
      "cell_type": "markdown",
      "source": [
        "Ques9: What is type casting in Python?\n",
        "\n",
        "\n",
        "---\n",
        "Ans: Type Casting also known as type conversion is a concept in python that performs conversion of one data type to another. Variables hold data of specific types such as int,float,str,bool. These data types helps the interpreter to manipulate the information. Type casting help in handlling errors in program. There are two types of type casting:\n",
        "1. Implicit Type Casting:-- It occurs automatically within the interpreter. The interpreter automatically converts the data from one type to another, such as int to a float. Example, when try to add int value to float the result automatically will be a float (10+2.3 = 12.3)\n",
        "\n",
        "2. Explicit Type Casting: when special operator  force conversion from one data type to another is known as explicit type conversion. It does not happens automatically . Although, it needs to be handeled manually. Example str = \"12\", converting this to int int(str).\n",
        "\n",
        "\n",
        "\n"
      ],
      "metadata": {
        "id": "KSKHHYPb1i6c"
      }
    },
    {
      "cell_type": "markdown",
      "source": [
        "Ques10: What is the difference between implicit and explicit type casting?\n",
        "\n",
        "\n",
        "---\n",
        "Ans:\n",
        "1.   Implicit type casting is automatically ocurred and handeled by interpreter while explicit is manually handeled by a programmer.\n",
        "2. In implicit casting no explicit syntax needed while for explicit type casting explicit syntax is required.\n",
        "1. Example of implicit type casting-  \n",
        "a = 10 int type\n",
        "b = 2.3 float type\n",
        "a+b will be 12.3 which is float in type\n",
        "no explicit syntax used.\n",
        "2. Example of explicit type casting-\n",
        "a = \"12\" string in type\n",
        "int(a) will convert str to int a = 12. function int()  a explicit syntax.\n",
        "\n",
        "\n",
        "\n",
        "\n"
      ],
      "metadata": {
        "id": "emFW_NUmFt4d"
      }
    },
    {
      "cell_type": "markdown",
      "source": [
        "Ques11: What is the purpose of conditional statements in Python?\n",
        "\n",
        "\n",
        "---\n",
        "Ans: Conditional Statements are flow control statements. So, the purpose of Conditional statement in python is to control the work flow of python code by making decision. Decisions can be whether to do this or that.They allow program to execute a block of code that met with certain conditions. These decisions are taken with help of Conditionals statements that's why  it is also known as decision making statements.\n"
      ],
      "metadata": {
        "id": "QwvTxjknHyVZ"
      }
    },
    {
      "cell_type": "markdown",
      "source": [
        "Ques12: How does the elif statement work?\n",
        "\n",
        "\n",
        "---\n",
        "Ans: Elif Statements work by checking the certain conditions.\n",
        "Syntax:\n",
        "if (condition):\n",
        "     # statements\n",
        "elif (condition):\n",
        "     # statements\n",
        "elif(condition):#statements\n",
        "...... else: #statements.\n",
        "\n",
        "elif statement first check the condition of if block if it is met with given condition then block of if code will be executed otherwise flow will goes to elif statement if the elif condition met with provides becomes true the block of elif will be executed or if not the flow will goes to next elif condition. Flow of control will be moving to next and next with given elif statements if the condition is true the certain block will be executed if none of the condition is true then else block of code will be executes. This is how elif statements work\n"
      ],
      "metadata": {
        "id": "TthCYMmUJAfi"
      }
    },
    {
      "cell_type": "markdown",
      "source": [
        "Ques13: What is the difference between for and while loops?\n",
        "\n",
        "\n",
        "---\n",
        "Ans: Looping statements in python allows to repeat the particular task again and again till required.\n",
        "* for loop: for loop is used when it is already known to how many times iteration will occur of block of code will be repeated. It iterates over a sequence(list,tuple,string,etc).\n",
        "syntax: for var in seq: # statements\n",
        "* while loop: is used when iterations is not known but the code continues to execute as long as the specified condition is true. the condition must met false otherwise loop will give infinite results.\n",
        "Syntax: while (condition): # statements.\n",
        "\n",
        "\n"
      ],
      "metadata": {
        "id": "uL14eFrdKug4"
      }
    },
    {
      "cell_type": "markdown",
      "source": [
        " Ques14: Describe a scenario where a while loop is more suitable than a for loop.\n",
        "\n",
        "\n",
        "---\n",
        "Ans: While loops are more suitable than for loop when the number of iteration is not known and it depends on a certain condition that may change during execution. For example, reading files until end of file. Using for loop in this case is not best because we don't know how much iteratons required to read file until end line but in case of while loop it is good because decisions are taken with conditions.\n"
      ],
      "metadata": {
        "id": "9UejK9WgMdgY"
      }
    },
    {
      "cell_type": "markdown",
      "source": [
        "***PRACTICAL QUESTIONS***\n",
        "\n",
        "---\n",
        "\n"
      ],
      "metadata": {
        "id": "3jO99_6zO8yi"
      }
    },
    {
      "cell_type": "code",
      "source": [
        "# 1.Write a Python program to print \"Hello, World!\"\n",
        "\n",
        "print(\"Hello, World!\")\n"
      ],
      "metadata": {
        "colab": {
          "base_uri": "https://localhost:8080/"
        },
        "id": "PT1KwIsDPGh1",
        "outputId": "1ffaa157-9ae2-41e4-ec99-5e9e0a455014"
      },
      "execution_count": null,
      "outputs": [
        {
          "output_type": "stream",
          "name": "stdout",
          "text": [
            "Hello, World!\n"
          ]
        }
      ]
    },
    {
      "cell_type": "code",
      "source": [
        "# 2. Write a Python program that displays your name and age\n",
        "\n",
        "name = \"Satwinder Kaur\"\n",
        "age = 21\n",
        "print(\"Name:\",name)\n",
        "print(\"Age:\",age)"
      ],
      "metadata": {
        "colab": {
          "base_uri": "https://localhost:8080/"
        },
        "id": "1fa5q5fuPYl2",
        "outputId": "bf1f2d77-2a64-4db0-85f3-71cd90893242"
      },
      "execution_count": null,
      "outputs": [
        {
          "output_type": "stream",
          "name": "stdout",
          "text": [
            "Name: Satwinder Kaur\n",
            "Age: 21\n"
          ]
        }
      ]
    },
    {
      "cell_type": "code",
      "source": [
        "# 3.Write code to print all the pre-defined keywords in Python using the keyword library\n",
        "\n",
        "import keyword\n",
        "print(\"List of Keyword:\",keyword.kwlist)"
      ],
      "metadata": {
        "colab": {
          "base_uri": "https://localhost:8080/"
        },
        "id": "1P-Vzl_JPvk3",
        "outputId": "c3b8486a-3d6a-4f12-b579-ad4ad2d87f57"
      },
      "execution_count": null,
      "outputs": [
        {
          "output_type": "stream",
          "name": "stdout",
          "text": [
            "List of Keyword: ['False', 'None', 'True', 'and', 'as', 'assert', 'async', 'await', 'break', 'class', 'continue', 'def', 'del', 'elif', 'else', 'except', 'finally', 'for', 'from', 'global', 'if', 'import', 'in', 'is', 'lambda', 'nonlocal', 'not', 'or', 'pass', 'raise', 'return', 'try', 'while', 'with', 'yield']\n"
          ]
        }
      ]
    },
    {
      "cell_type": "code",
      "source": [
        "# 4.Write a program that checks if a given word is a Python keyword.\n",
        "\n",
        "word = input(\"Enter word to check it is keyword or not:\")\n",
        "print(word in keyword.kwlist)"
      ],
      "metadata": {
        "colab": {
          "base_uri": "https://localhost:8080/"
        },
        "id": "iJdaf8ItQThE",
        "outputId": "9b842d53-cedb-4fb1-eb3c-0e328eefb3c9"
      },
      "execution_count": null,
      "outputs": [
        {
          "output_type": "stream",
          "name": "stdout",
          "text": [
            "Enter word to check it is keyword or not:def\n",
            "True\n"
          ]
        }
      ]
    },
    {
      "cell_type": "code",
      "source": [
        "'''\n",
        "5. Create a list and tuple in Python, and demonstrate how attempting to change an element works differently\n",
        "for each.\n",
        "'''\n",
        "list2 = [10,20,30]\n",
        "print(\"Before changing list:\",list2)\n",
        "list2.append(40) # adding value to list\n",
        "print(\"After changing list\",list2)\n",
        "tuple2 = (\"a\",\"b\",\"c\")\n",
        "print(\"Before changing tuple:\",tuple2)\n",
        "tuple2.remove(a) # removing value in tuple but thorugh an error\n",
        "print(\"After changing tuple:\",tuple2)"
      ],
      "metadata": {
        "colab": {
          "base_uri": "https://localhost:8080/",
          "height": 245
        },
        "id": "sBFf9OY3QyNX",
        "outputId": "bcff10ae-7e4d-4c13-ae34-f32d5537f270"
      },
      "execution_count": null,
      "outputs": [
        {
          "output_type": "stream",
          "name": "stdout",
          "text": [
            "Before changing list: [10, 20, 30]\n",
            "After changing list [10, 20, 30, 40]\n",
            "Before changing tuple: ('a', 'b', 'c')\n"
          ]
        },
        {
          "output_type": "error",
          "ename": "AttributeError",
          "evalue": "'tuple' object has no attribute 'remove'",
          "traceback": [
            "\u001b[0;31m---------------------------------------------------------------------------\u001b[0m",
            "\u001b[0;31mAttributeError\u001b[0m                            Traceback (most recent call last)",
            "\u001b[0;32m/tmp/ipython-input-172837112.py\u001b[0m in \u001b[0;36m<cell line: 0>\u001b[0;34m()\u001b[0m\n\u001b[1;32m      9\u001b[0m \u001b[0mtuple2\u001b[0m \u001b[0;34m=\u001b[0m \u001b[0;34m(\u001b[0m\u001b[0;34m\"a\"\u001b[0m\u001b[0;34m,\u001b[0m\u001b[0;34m\"b\"\u001b[0m\u001b[0;34m,\u001b[0m\u001b[0;34m\"c\"\u001b[0m\u001b[0;34m)\u001b[0m\u001b[0;34m\u001b[0m\u001b[0;34m\u001b[0m\u001b[0m\n\u001b[1;32m     10\u001b[0m \u001b[0mprint\u001b[0m\u001b[0;34m(\u001b[0m\u001b[0;34m\"Before changing tuple:\"\u001b[0m\u001b[0;34m,\u001b[0m\u001b[0mtuple2\u001b[0m\u001b[0;34m)\u001b[0m\u001b[0;34m\u001b[0m\u001b[0;34m\u001b[0m\u001b[0m\n\u001b[0;32m---> 11\u001b[0;31m \u001b[0mtuple2\u001b[0m\u001b[0;34m.\u001b[0m\u001b[0mremove\u001b[0m\u001b[0;34m(\u001b[0m\u001b[0ma\u001b[0m\u001b[0;34m)\u001b[0m \u001b[0;31m# removing value in tuple but thorugh an error\u001b[0m\u001b[0;34m\u001b[0m\u001b[0;34m\u001b[0m\u001b[0m\n\u001b[0m\u001b[1;32m     12\u001b[0m \u001b[0mprint\u001b[0m\u001b[0;34m(\u001b[0m\u001b[0;34m\"After changing tuple:\"\u001b[0m\u001b[0;34m,\u001b[0m\u001b[0mtuple2\u001b[0m\u001b[0;34m)\u001b[0m\u001b[0;34m\u001b[0m\u001b[0;34m\u001b[0m\u001b[0m\n",
            "\u001b[0;31mAttributeError\u001b[0m: 'tuple' object has no attribute 'remove'"
          ]
        }
      ]
    },
    {
      "cell_type": "code",
      "source": [
        "# 6.Write a function to demonstrate the behavior of mutable and immutable arguments.\n",
        "\n",
        "def behaviour(num, li1):\n",
        "    num = num + 1\n",
        "    li1.append(40)\n",
        "    print(\"Inside function:\")\n",
        "    print(\"Integer =\",num)\n",
        "    print(\"List =\",li1)\n",
        "# Immutable argument integer\n",
        "num = 10\n",
        "# Mutable argument list\n",
        "li1 = [1, 2, 3]\n",
        "print(\"Integer =\",num)\n",
        "print(\"List =\",li1)\n",
        "behaviour(num,li1)\n",
        "print(\"After calling the function:\")\n",
        "print(\"Integer Value unchanged =\", a)  # unchanged\n",
        "print(\"List Updated  =\", b)  # Changed\n"
      ],
      "metadata": {
        "id": "SeP4iWjoSADo",
        "colab": {
          "base_uri": "https://localhost:8080/"
        },
        "outputId": "e3c60709-d105-4f59-c3d7-f1f8f8ba0d5e"
      },
      "execution_count": null,
      "outputs": [
        {
          "output_type": "stream",
          "name": "stdout",
          "text": [
            "Integer = 10\n",
            "List = [1, 2, 3]\n",
            "Inside function:\n",
            "Integer = 11\n",
            "List = [1, 2, 3, 40]\n",
            "After calling the function:\n",
            "Integer Value unchanged = 10\n",
            "List Updated  = [1, 2, 3, 40]\n"
          ]
        }
      ]
    },
    {
      "cell_type": "code",
      "source": [
        "# 7.Write a program that performs basic arithmetic operations on two user-input numbers.\n",
        "\n",
        "num1 = int(input(\"Enter value of first number:\"))\n",
        "num2 = int(input(\"Enter value of second number:\"))\n",
        "print(\"Basic Arithmetic Operations:\")\n",
        "print(f'Addition: {num1}+{num2}=',num1+num2)\n",
        "print(f'Subtraction: {num1}-{num2}=',num1-num2)\n",
        "print(f'Multiplication: {num1}*{num2}=',num1*num2)\n",
        "print(f'Division: {num1}/{num2}=',num1/num2)\n",
        "print(f'Floor Division: {num1}//{num2}=',num1//num2)\n",
        "print(f'Remainder: {num1}%{num2}=',num1%num2)\n",
        "print(f'Exponent: {num1}**2=',num1**2)\n"
      ],
      "metadata": {
        "colab": {
          "base_uri": "https://localhost:8080/"
        },
        "id": "fYCSTgrW8E0D",
        "outputId": "05af296a-2734-42d1-a4c7-923298c07be5"
      },
      "execution_count": null,
      "outputs": [
        {
          "output_type": "stream",
          "name": "stdout",
          "text": [
            "Enter value of first number:12\n",
            "Enter value of second number:3\n",
            "Basic Arithmetic Operations:\n",
            "Addition: 12+3= 15\n",
            "Subtraction: 12-3= 9\n",
            "Multiplication: 12*3= 36\n",
            "Division: 12/3= 4.0\n",
            "Floor Division: 12//3= 4\n",
            "Remainder: 12%3= 0\n",
            "Exponent: 12**2= 144\n"
          ]
        }
      ]
    },
    {
      "cell_type": "code",
      "source": [
        "# 8.Write a program to demonstrate the use of logical operators.\n",
        "\n",
        "x = 10\n",
        "and_oprtr = (x > 5) and (x == 10)  # and\n",
        "print(\"Result of and operator:\",and_oprtr)\n",
        "or_oprtr = (x > 5) or (x < 2)    # or\n",
        "print(\"Result of or operator:\",or_oprtr)\n",
        "not_oprtr = not(x == 10) # not\n",
        "print(\"Result of not operator:\",not_oprtr)\n"
      ],
      "metadata": {
        "colab": {
          "base_uri": "https://localhost:8080/"
        },
        "id": "1hlhOk5d97nJ",
        "outputId": "d3293753-86d3-48fa-af2b-9fb4a21aa5ba"
      },
      "execution_count": null,
      "outputs": [
        {
          "output_type": "stream",
          "name": "stdout",
          "text": [
            "Result of and operator: True\n",
            "Result of or operator: True\n",
            "Result of not operator: False\n"
          ]
        }
      ]
    },
    {
      "cell_type": "code",
      "source": [
        "# 9.Write a Python program to convert user input from string to integer, float, and boolean types.\n",
        "\n",
        "enter = input(\"Enter String:\")\n",
        "print(\"String to Integer:\",int(enter)) # convert to  int\n",
        "print(\"String to Float:\",float(enter)) # convert to float\n",
        "print(\"String to Boolean:\",bool(enter)) # convert to bool"
      ],
      "metadata": {
        "colab": {
          "base_uri": "https://localhost:8080/"
        },
        "id": "MSmifMBXDmtP",
        "outputId": "8a07f899-dead-43ca-dfba-023e2e924116"
      },
      "execution_count": null,
      "outputs": [
        {
          "output_type": "stream",
          "name": "stdout",
          "text": [
            "Enter String:43\n",
            "String to Integer: 43\n",
            "String to Float: 43.0\n",
            "String to Boolean: True\n"
          ]
        }
      ]
    },
    {
      "cell_type": "code",
      "source": [
        "# 10.Write code to demonstrate type casting with list elements\n",
        "\n",
        "list1 = [\"1\",\"2\",\"3\",\"4\"]\n",
        "print(\"List:\",list1)\n",
        "# list elements to integers\n",
        "int_list = [int(i) for i in list1]\n",
        "print(\"Integer_list:\",int_list)\n",
        "# list elements to float\n",
        "float_list = [float(i) for i in list1]\n",
        "print(\"Float_list:\",float_list)\n",
        "# list elements to boolean\n",
        "bool_list = [bool(i) for i in list1]\n",
        "print(\"Boolean_list:\",bool_list)"
      ],
      "metadata": {
        "colab": {
          "base_uri": "https://localhost:8080/"
        },
        "id": "H_g0SOxKEaVf",
        "outputId": "90cc7908-d35a-456f-a8eb-4e195e0f27c8"
      },
      "execution_count": null,
      "outputs": [
        {
          "output_type": "stream",
          "name": "stdout",
          "text": [
            "List: ['1', '2', '3', '4']\n",
            "Integer_list: [1, 2, 3, 4]\n",
            "Float_list: [1.0, 2.0, 3.0, 4.0]\n",
            "Boolean_list: [True, True, True, True]\n"
          ]
        }
      ]
    },
    {
      "cell_type": "code",
      "source": [
        "# 11.Write a program that checks if a number is positive, negative, or zero.\n",
        "\n",
        "number = int(input(\"Enter number:\"))\n",
        "if number > 0:\n",
        "  print(f'{number} is positive')\n",
        "elif number < 0:\n",
        "  print(f'{number} is negative')\n",
        "else:\n",
        "  print(\"Number is zero\")"
      ],
      "metadata": {
        "colab": {
          "base_uri": "https://localhost:8080/"
        },
        "id": "Cpjd7daaJCR2",
        "outputId": "4d5e3634-3903-486a-f672-7b0ebe8d2e2a"
      },
      "execution_count": null,
      "outputs": [
        {
          "output_type": "stream",
          "name": "stdout",
          "text": [
            "Enter number:-9\n",
            "-9 is negative\n"
          ]
        }
      ]
    },
    {
      "cell_type": "code",
      "source": [
        "# 12.Write a for loop to print numbers from 1 to 10\n",
        "\n",
        "for i in range(1,11):\n",
        "  print(i,end=\" \")"
      ],
      "metadata": {
        "colab": {
          "base_uri": "https://localhost:8080/"
        },
        "id": "rlVrBiA1J9j4",
        "outputId": "65617fd9-6456-45b2-8177-f41f72110523"
      },
      "execution_count": null,
      "outputs": [
        {
          "output_type": "stream",
          "name": "stdout",
          "text": [
            "1 2 3 4 5 6 7 8 9 10 "
          ]
        }
      ]
    },
    {
      "cell_type": "code",
      "source": [
        "# 13.Write a Python program to find the sum of all even numbers between 1 and 50\n",
        "\n",
        "sum = 0\n",
        "for i in range(1,51):\n",
        "  if i%2 == 0:\n",
        "    sum = sum+i\n",
        "print(f'Sum of all even numbers between 1 and 50 is {sum}')"
      ],
      "metadata": {
        "colab": {
          "base_uri": "https://localhost:8080/"
        },
        "id": "aeKjM7AaKNg6",
        "outputId": "b53003a3-605b-4a2f-d791-294f2be70c4c"
      },
      "execution_count": null,
      "outputs": [
        {
          "output_type": "stream",
          "name": "stdout",
          "text": [
            "Sum of all even numbers between 1 and 50 is 650\n"
          ]
        }
      ]
    },
    {
      "cell_type": "code",
      "source": [
        "# 14.Write a program to reverse a string using a while loop\n",
        "Str = input(\"Enter a string:\")\n",
        "rev_str = \" \"\n",
        "i = len(Str)-1\n",
        "while i >= 0:\n",
        "  rev_str = rev_str + Str[i]\n",
        "  i = i-1\n",
        "print(\"Entered string:\",Str)\n",
        "print(\"Reversed string:\",rev_str)\n"
      ],
      "metadata": {
        "id": "fV_-N_8QN9yF",
        "colab": {
          "base_uri": "https://localhost:8080/"
        },
        "outputId": "2445ef71-bcf1-404b-9831-b7e40ec52555"
      },
      "execution_count": 2,
      "outputs": [
        {
          "output_type": "stream",
          "name": "stdout",
          "text": [
            "Enter a string:Parm\n",
            "Entered string: Parm\n",
            "Reversed string:  mraP\n"
          ]
        }
      ]
    },
    {
      "cell_type": "code",
      "source": [
        "# 15.Write a Python program to calculate the factorial of a number provided by the user using a while loop\n",
        "\n",
        "num = int(input(\"Enter value:\"))\n",
        "fact = 1\n",
        "i = 1\n",
        "while i<=num:\n",
        "  fact = fact*i\n",
        "  i = i+1\n",
        "print(f'Factorial of {num} is {fact}')\n"
      ],
      "metadata": {
        "colab": {
          "base_uri": "https://localhost:8080/"
        },
        "id": "XBWAvjXsO5Xd",
        "outputId": "f8711bc6-6bc4-4b5d-fa10-8912cb941a52"
      },
      "execution_count": null,
      "outputs": [
        {
          "output_type": "stream",
          "name": "stdout",
          "text": [
            "Enter value:4\n",
            "Factorial of 4 is 24\n"
          ]
        }
      ]
    }
  ]
}