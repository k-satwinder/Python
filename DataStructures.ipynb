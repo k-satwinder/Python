{
  "nbformat": 4,
  "nbformat_minor": 0,
  "metadata": {
    "colab": {
      "provenance": []
    },
    "kernelspec": {
      "name": "python3",
      "display_name": "Python 3"
    },
    "language_info": {
      "name": "python"
    }
  },
  "cells": [
    {
      "cell_type": "markdown",
      "source": [
        "***DATA TYPES AND STRUCTURES QUESTIONS***\n",
        "\n",
        "---\n",
        "\n"
      ],
      "metadata": {
        "id": "w7UtPcIzur1o"
      }
    },
    {
      "cell_type": "markdown",
      "source": [
        "Q1: What are data structures, and why are they important?\n",
        "\n",
        "---\n",
        "Ans: Data Structures are the way of organizing and storing data so that it can accessed and manipulated efficiently. They identify how elements are related to each and one and how manipulation can be done.\n",
        "IMPORTANCE:\n",
        "* Organinzing complex data is easy\n",
        "* Operations like sorting and searching can be persormed efficiently.\n",
        "*  Simplifies data manipulation\n",
        "*  crucial for program performance and memory usage\n",
        "\n",
        "\n",
        "\n",
        "\n"
      ],
      "metadata": {
        "id": "EodbB-KiuzV4"
      }
    },
    {
      "cell_type": "code",
      "source": [
        "'''\n",
        "Q2: Explain the difference between mutable and immutable data types with examples?\n",
        "\n",
        "Ans: Mutable data types can be modified which means values can be added , removed or changed after creation.\n",
        "Whereas Imutable data types cannot be modified or changed which means neither value can be added nor removed once created.\n",
        "Example for mutable data types are list, dictionaries, set\n",
        "Example for imutable data types are int, float, string, tuples.\n",
        "Let's see the difference with example:\n",
        "'''\n",
        "list1 = [1,2,3] # mutable type: list\n",
        "list1[1] = 20   # chenging value 2 with 20\n",
        "print(list1)    # updated list printed\n",
        "tuple1 = (1,2,3) # imutable type\n",
        "tuple1[1] = 20  # changing value 2 with 20\n",
        "print(tuple1)    # throw error"
      ],
      "metadata": {
        "colab": {
          "base_uri": "https://localhost:8080/",
          "height": 211
        },
        "id": "aRuQMsIl0OX1",
        "outputId": "d0bbcba5-7c03-4dcf-b357-1f84d973151b"
      },
      "execution_count": null,
      "outputs": [
        {
          "output_type": "stream",
          "name": "stdout",
          "text": [
            "[1, 20, 3]\n"
          ]
        },
        {
          "output_type": "error",
          "ename": "TypeError",
          "evalue": "'tuple' object does not support item assignment",
          "traceback": [
            "\u001b[0;31m---------------------------------------------------------------------------\u001b[0m",
            "\u001b[0;31mTypeError\u001b[0m                                 Traceback (most recent call last)",
            "\u001b[0;32m/tmp/ipython-input-2797708521.py\u001b[0m in \u001b[0;36m<cell line: 0>\u001b[0;34m()\u001b[0m\n\u001b[1;32m     12\u001b[0m \u001b[0mprint\u001b[0m\u001b[0;34m(\u001b[0m\u001b[0mlist1\u001b[0m\u001b[0;34m)\u001b[0m    \u001b[0;31m# updated list printed\u001b[0m\u001b[0;34m\u001b[0m\u001b[0;34m\u001b[0m\u001b[0m\n\u001b[1;32m     13\u001b[0m \u001b[0mtuple1\u001b[0m \u001b[0;34m=\u001b[0m \u001b[0;34m(\u001b[0m\u001b[0;36m1\u001b[0m\u001b[0;34m,\u001b[0m\u001b[0;36m2\u001b[0m\u001b[0;34m,\u001b[0m\u001b[0;36m3\u001b[0m\u001b[0;34m)\u001b[0m \u001b[0;31m# imutable type\u001b[0m\u001b[0;34m\u001b[0m\u001b[0;34m\u001b[0m\u001b[0m\n\u001b[0;32m---> 14\u001b[0;31m \u001b[0mtuple1\u001b[0m\u001b[0;34m[\u001b[0m\u001b[0;36m1\u001b[0m\u001b[0;34m]\u001b[0m \u001b[0;34m=\u001b[0m \u001b[0;36m20\u001b[0m  \u001b[0;31m# changing value 2 with 20\u001b[0m\u001b[0;34m\u001b[0m\u001b[0;34m\u001b[0m\u001b[0m\n\u001b[0m\u001b[1;32m     15\u001b[0m \u001b[0mprint\u001b[0m\u001b[0;34m(\u001b[0m\u001b[0mtuple1\u001b[0m\u001b[0;34m)\u001b[0m    \u001b[0;31m# throw error\u001b[0m\u001b[0;34m\u001b[0m\u001b[0;34m\u001b[0m\u001b[0m\n",
            "\u001b[0;31mTypeError\u001b[0m: 'tuple' object does not support item assignment"
          ]
        }
      ]
    },
    {
      "cell_type": "markdown",
      "source": [
        "Q3: What are the main differences between lists and tuples in Python?\n",
        "\n",
        "\n",
        "---\n",
        "Ans: The main difference between list and tuple is that list is mutable data structure which means it can be modified whereas tuple is  imutable data structure which means it cannot be changed once created.As shown example in Q2 that how changing list updates the existed list while tuple thorws error.\n"
      ],
      "metadata": {
        "id": "XQ16VZ8i2TdK"
      }
    },
    {
      "cell_type": "markdown",
      "source": [
        "Q4: Describe how dictionaries store data?\n",
        "\n",
        "\n",
        "---\n",
        "Ans: Dictionary stores data in key-value pairs. Keys are unique elements which can be int or string. Values can be stored of any type. Dictionary can contain any mutable and imutable types as values.\n",
        "Example:\n",
        "\n",
        "\n",
        "```\n",
        "dictionary = { \"name\" : \"Satwinder\", \"age\": 21, \"favourites\" : ['black','mango']}\n",
        "```\n",
        "here, name, age, favourites are keys while satwinder, 21 , ['black','mango'] are values\n",
        "\n"
      ],
      "metadata": {
        "id": "Th1Ssv1325bO"
      }
    },
    {
      "cell_type": "code",
      "source": [
        "'''\n",
        "Q5: Why might you use a set instead of a list in Python?\n",
        "\n",
        "Ans: The only reason for using set instead of list is that set does not allow duplicate elements and remove them\n",
        "whereas list allow duplicacy and count duplicate elements as a memeber of list.\n",
        "Example:\n",
        "'''\n",
        "list1 = [1,2,2,3,4,4,4]\n",
        "print(list1) # will contain duplicates as well\n",
        "set1 = {1,2,2,3,4,4,4}\n",
        "print(set1) # will only show originals"
      ],
      "metadata": {
        "colab": {
          "base_uri": "https://localhost:8080/"
        },
        "id": "-oJ_58PS7dM5",
        "outputId": "5ffe1122-6c26-4162-ce15-a58c87dbcc62"
      },
      "execution_count": null,
      "outputs": [
        {
          "output_type": "stream",
          "name": "stdout",
          "text": [
            "[1, 2, 2, 3, 4, 4, 4]\n",
            "{1, 2, 3, 4}\n"
          ]
        }
      ]
    },
    {
      "cell_type": "markdown",
      "source": [
        "Q6: What is a string in Python, and how is it different from a list?\n",
        "\n",
        "\n",
        "---\n",
        "Ans: String is sequence of character or can be said that group of characters make a string which is stored in variable using (\"double quotes\") or ('single quote') or ('''triple quote''').This is imutable data structure in python.\n",
        "List is ordered collection of hetrogeneous data types that is stored in variable using [] square brackets  and it is mutable data structure in python. Both String and List are different because string only contains group of character and imutbale in nature while list contain different type and muable in nature.\n",
        "```\n",
        "str1 = \"Hello\" # string\n",
        "list1 = [1,'a',1.3,true] # list\n",
        "```\n",
        "\n",
        "\n"
      ],
      "metadata": {
        "id": "mkp1EHf578ch"
      }
    },
    {
      "cell_type": "markdown",
      "source": [
        "Q7: How do tuples ensure data integrity in Python?\n",
        "\n",
        "\n",
        "---\n",
        "Ans: Data integrity refres to accuracy, consistency and reliability. Tuples are imutable in nature which means data cannot be added , removed or changed once created that's how tuples ensure data integrity in python.\n"
      ],
      "metadata": {
        "id": "_lL_X9XN9gtL"
      }
    },
    {
      "cell_type": "markdown",
      "source": [
        "Q8: What is a hash table, and how does it relate to dictionaries in Python?\n",
        "\n",
        "\n",
        "---\n",
        "Ans: Hash table is also a data structure in python that stores data in key-value pairs. It use hash function to compute an index where data is stored.It is related with dictionary because dictionary also store data in key-value pair format.\n",
        "\n"
      ],
      "metadata": {
        "id": "HWx3ZjmM-6cV"
      }
    },
    {
      "cell_type": "markdown",
      "source": [
        "Q9: Can lists contain different data types in Python?\n",
        "\n",
        "\n",
        "---\n",
        "Ans: Yes, the defination of list say that list contain ordered collection of heterogeneous data types which means different data types.\n"
      ],
      "metadata": {
        "id": "tiKXae____7_"
      }
    },
    {
      "cell_type": "code",
      "source": [
        "'''\n",
        "Q10: Explain why strings are immutable in Python?\n",
        "\n",
        "Ans: Strings are imutable because it cannot be changed once created if try to do so the interpreter will throw an error.\n",
        "This can be shown thorugh example:\n",
        "'''\n",
        "str1 =\"Hello\"\n",
        "str1[0] = \"H\" # trying to change first charatcer of string\n",
        "print(str1)\n"
      ],
      "metadata": {
        "colab": {
          "base_uri": "https://localhost:8080/",
          "height": 193
        },
        "id": "Fkz0yQEqAihk",
        "outputId": "a0bb9acb-9eef-4443-9ff8-fd0c9c203787"
      },
      "execution_count": null,
      "outputs": [
        {
          "output_type": "error",
          "ename": "TypeError",
          "evalue": "'str' object does not support item assignment",
          "traceback": [
            "\u001b[0;31m---------------------------------------------------------------------------\u001b[0m",
            "\u001b[0;31mTypeError\u001b[0m                                 Traceback (most recent call last)",
            "\u001b[0;32m/tmp/ipython-input-1022359316.py\u001b[0m in \u001b[0;36m<cell line: 0>\u001b[0;34m()\u001b[0m\n\u001b[1;32m      6\u001b[0m '''\n\u001b[1;32m      7\u001b[0m \u001b[0mstr1\u001b[0m \u001b[0;34m=\u001b[0m\u001b[0;34m\"Hello\"\u001b[0m\u001b[0;34m\u001b[0m\u001b[0;34m\u001b[0m\u001b[0m\n\u001b[0;32m----> 8\u001b[0;31m \u001b[0mstr1\u001b[0m\u001b[0;34m[\u001b[0m\u001b[0;36m0\u001b[0m\u001b[0;34m]\u001b[0m \u001b[0;34m=\u001b[0m \u001b[0;34m\"H\"\u001b[0m \u001b[0;31m# trying to change first charatcer of string\u001b[0m\u001b[0;34m\u001b[0m\u001b[0;34m\u001b[0m\u001b[0m\n\u001b[0m\u001b[1;32m      9\u001b[0m \u001b[0mprint\u001b[0m\u001b[0;34m(\u001b[0m\u001b[0mstr1\u001b[0m\u001b[0;34m)\u001b[0m\u001b[0;34m\u001b[0m\u001b[0;34m\u001b[0m\u001b[0m\n",
            "\u001b[0;31mTypeError\u001b[0m: 'str' object does not support item assignment"
          ]
        }
      ]
    },
    {
      "cell_type": "markdown",
      "source": [
        "Q11: What advantages do dictionaries offer over lists for certain tasks?\n",
        "\n",
        "\n",
        "---\n",
        "Ans:\n",
        "* Dictionary conatin key-value pair of data that shows a proper format while list only contain ordered collection\n",
        "* Searching element in dictionary faster process as use key instead of index in list.\n",
        "\n",
        "\n"
      ],
      "metadata": {
        "id": "YB0_CI3cBMC9"
      }
    },
    {
      "cell_type": "markdown",
      "source": [
        "Q12: Describe a scenario where using a tuple would be preferable over a list?\n",
        "\n",
        "\n",
        "---\n",
        "Ans: Storing fixed values.For instance, stroing the ID of employee working in a company, tuple would be more preferable over a list."
      ],
      "metadata": {
        "id": "xaRw__jGDpQG"
      }
    },
    {
      "cell_type": "markdown",
      "source": [
        "Q13: How do sets handle duplicate values in Python?\n",
        "\n",
        "\n",
        "---\n",
        "Ans: Set is unordered collection of unique elements.By defination set does not allow duplicate values. It will ignore duplicate elements if try to add or if it is already in set.\n",
        "\n"
      ],
      "metadata": {
        "id": "aPOxM7oqEmhP"
      }
    },
    {
      "cell_type": "code",
      "source": [
        "'''\n",
        "Q14: How does the “in” keyword work differently for lists and dictionaries?\n",
        "\n",
        "Ans: Working of \"in\" operator in list is it checks or scans elements of list and give true if it is present.\n",
        "\"in\" operator in dictionary,by default looks for the key if key is present in dictionary it result true otherwise false,\n",
        "to check for values .value() function is used.\n",
        "Let's see it with example:\n",
        "'''\n",
        "list1 = [\"apple\",\"cherry\",\"mango\"]\n",
        "print('mango'in list1)\n",
        "dic = {\"name\": \"Arjun\", \"class\": \"BCA\", \"age\":21}\n",
        "print('name'in dic) # look for key\n",
        "print(21 in dic) # false, 21 is value not key\n",
        "print(21 in dic.values()) # .value() look for value"
      ],
      "metadata": {
        "colab": {
          "base_uri": "https://localhost:8080/"
        },
        "id": "7PFIqI26FhFh",
        "outputId": "e32ae8fe-79a0-4f55-93c3-1e47bb5c93bb"
      },
      "execution_count": null,
      "outputs": [
        {
          "output_type": "stream",
          "name": "stdout",
          "text": [
            "True\n",
            "True\n",
            "False\n",
            "True\n"
          ]
        }
      ]
    },
    {
      "cell_type": "code",
      "source": [
        "'''\n",
        "Q15: Can you modify the elements of a tuple? Explain why or why not?\n",
        "\n",
        "Ans: No, modifiying elements of a tuple is not possible because tuple supports immutability which means cannot be modified.\n",
        "If try to do so it will through error.\n",
        "Example:\n",
        "'''\n",
        "tuple1 = (10,20,20,40)\n",
        "print(tuple1)\n",
        "tuple1[2] = 30 # trying to change value 20 to 30\n",
        "print(tuple1)"
      ],
      "metadata": {
        "colab": {
          "base_uri": "https://localhost:8080/",
          "height": 211
        },
        "id": "t4xHlKoeIEEH",
        "outputId": "74946690-6930-4d57-dae1-1ae44bd61a94"
      },
      "execution_count": null,
      "outputs": [
        {
          "output_type": "stream",
          "name": "stdout",
          "text": [
            "(10, 20, 20, 40)\n"
          ]
        },
        {
          "output_type": "error",
          "ename": "TypeError",
          "evalue": "'tuple' object does not support item assignment",
          "traceback": [
            "\u001b[0;31m---------------------------------------------------------------------------\u001b[0m",
            "\u001b[0;31mTypeError\u001b[0m                                 Traceback (most recent call last)",
            "\u001b[0;32m/tmp/ipython-input-1110702323.py\u001b[0m in \u001b[0;36m<cell line: 0>\u001b[0;34m()\u001b[0m\n\u001b[1;32m      8\u001b[0m \u001b[0mtuple1\u001b[0m \u001b[0;34m=\u001b[0m \u001b[0;34m(\u001b[0m\u001b[0;36m10\u001b[0m\u001b[0;34m,\u001b[0m\u001b[0;36m20\u001b[0m\u001b[0;34m,\u001b[0m\u001b[0;36m20\u001b[0m\u001b[0;34m,\u001b[0m\u001b[0;36m40\u001b[0m\u001b[0;34m)\u001b[0m\u001b[0;34m\u001b[0m\u001b[0;34m\u001b[0m\u001b[0m\n\u001b[1;32m      9\u001b[0m \u001b[0mprint\u001b[0m\u001b[0;34m(\u001b[0m\u001b[0mtuple1\u001b[0m\u001b[0;34m)\u001b[0m\u001b[0;34m\u001b[0m\u001b[0;34m\u001b[0m\u001b[0m\n\u001b[0;32m---> 10\u001b[0;31m \u001b[0mtuple1\u001b[0m\u001b[0;34m[\u001b[0m\u001b[0;36m2\u001b[0m\u001b[0;34m]\u001b[0m \u001b[0;34m=\u001b[0m \u001b[0;36m30\u001b[0m \u001b[0;31m# trying to change value 20 to 30\u001b[0m\u001b[0;34m\u001b[0m\u001b[0;34m\u001b[0m\u001b[0m\n\u001b[0m\u001b[1;32m     11\u001b[0m \u001b[0mprint\u001b[0m\u001b[0;34m(\u001b[0m\u001b[0mtuple1\u001b[0m\u001b[0;34m)\u001b[0m\u001b[0;34m\u001b[0m\u001b[0;34m\u001b[0m\u001b[0m\n",
            "\u001b[0;31mTypeError\u001b[0m: 'tuple' object does not support item assignment"
          ]
        }
      ]
    },
    {
      "cell_type": "markdown",
      "source": [
        "Q16: What is a nested dictionary, and give an example of its use case?\n",
        "\n",
        "\n",
        "---\n",
        "Ans: Nested dictionary means a dictionary inside a dictionary.It is used to show data structure link or hierarchy. A simple example can be person detail of fullname or contact\n",
        "\n",
        "\n",
        "```\n",
        "dict1 = {\"fullname\" : {\"firstname\" : \"Bob\" , \"lastname\" : \"Joe\" } , \"age\" : 21 , \"contact\" : {\"phone\" : 123444 , \"email\" : \"bb@gamil.com\" } }\n",
        "```\n",
        "\n",
        "\n",
        "\n"
      ],
      "metadata": {
        "id": "qAwvsnN8Fckx"
      }
    },
    {
      "cell_type": "markdown",
      "source": [
        "Q17: Describe the time complexity of accessing elements in a dictionary?\n",
        "\n",
        "\n",
        "---\n",
        "Ans: Time complexity of accessing dictionary elements is 0(1) that is a constant time. Accessing any element of dictionary takes the same time no matters how many elements are there in dictionary.\n"
      ],
      "metadata": {
        "id": "OZ7Uhn8PLA8z"
      }
    },
    {
      "cell_type": "markdown",
      "source": [
        "Q18: In what situations are lists preferred over dictionaries?\n",
        "\n",
        "\n",
        "---\n",
        "Ans: When it needs to access elements by indexing method lists are more preferable than dictionaries because dictionaries does not support indexing method instead it use keys to access elements."
      ],
      "metadata": {
        "id": "ZpAgRam5MCN9"
      }
    },
    {
      "cell_type": "markdown",
      "source": [
        "Q19: Why are dictionaries considered unordered, and how does that affect data retrieval?\n",
        "\n",
        "\n",
        "---\n",
        "Ans: Dictionaries are considered as unordered collection values because it does not maitain any kind of order while inserting new values.It works like hash table format.It affects the data retrieval because positioning of data does not work on it. To retrieve data one must know the key of that value.\n"
      ],
      "metadata": {
        "id": "ioQCGh3hMlJY"
      }
    },
    {
      "cell_type": "markdown",
      "source": [
        "Q20: Explain the difference between a list and a dictionary in terms of data retrieval?\n",
        "\n",
        "\n",
        "---\n",
        "Ans: Lists are ordered collection of items while dictionary is unordered.\n",
        "In terms of data retrieval list differes alot with dictionary because list are index based retrieval which means accessing items of list is done with index method by pointing the position of elements whereas dictionary use key to access the data no indexing supported in that."
      ],
      "metadata": {
        "id": "EC9tSwPlVOSh"
      }
    },
    {
      "cell_type": "markdown",
      "source": [
        "***PRACTICAL QUESTIONS***\n",
        "\n",
        "---\n",
        "\n"
      ],
      "metadata": {
        "id": "P09rMi1PVjRN"
      }
    },
    {
      "cell_type": "code",
      "source": [
        "# 1.Write a code to create a string with your name and print it.\n",
        "\n",
        "Name = \"Satwinder Kaur\"\n",
        "print(\"Name =\",Name)"
      ],
      "metadata": {
        "colab": {
          "base_uri": "https://localhost:8080/"
        },
        "id": "9AYAuRa_VsxZ",
        "outputId": "4b6711d6-8f79-4298-ff09-7151442a537c"
      },
      "execution_count": null,
      "outputs": [
        {
          "output_type": "stream",
          "name": "stdout",
          "text": [
            "Name = Satwinder Kaur\n"
          ]
        }
      ]
    },
    {
      "cell_type": "code",
      "source": [
        "# 2. Write a code to find the length of the string \"Hello World\".\n",
        "\n",
        "Str = \"Hello World\"\n",
        "print(\"Length of given String:\",len(Str))"
      ],
      "metadata": {
        "colab": {
          "base_uri": "https://localhost:8080/"
        },
        "id": "cBd3qC7vV8t7",
        "outputId": "189d36f5-8416-474d-c876-21f8d51f11d9"
      },
      "execution_count": null,
      "outputs": [
        {
          "output_type": "stream",
          "name": "stdout",
          "text": [
            "Length of given String: 11\n"
          ]
        }
      ]
    },
    {
      "cell_type": "code",
      "source": [
        "# 3.Write a code to slice the first 3 characters from the string \"Python Programming\".\n",
        "\n",
        "Str = \"Python Programming\"\n",
        "print(\"first 3 characters:\",Str[:3])"
      ],
      "metadata": {
        "colab": {
          "base_uri": "https://localhost:8080/"
        },
        "id": "b6PMUeG6WROf",
        "outputId": "e66b04f0-693a-474d-886a-ac03038c29ac"
      },
      "execution_count": null,
      "outputs": [
        {
          "output_type": "stream",
          "name": "stdout",
          "text": [
            "first 3 characters: Pyt\n"
          ]
        }
      ]
    },
    {
      "cell_type": "code",
      "source": [
        "# 4.Write a code to convert the string \"hello\" to uppercase.\n",
        "\n",
        "Str = \"hello\"\n",
        "print(f'{Str} in uppercase:',Str.upper())"
      ],
      "metadata": {
        "colab": {
          "base_uri": "https://localhost:8080/"
        },
        "id": "9qO-7V7-WueL",
        "outputId": "2c30ef65-2fd1-4242-a34e-af3ed6d9e41c"
      },
      "execution_count": null,
      "outputs": [
        {
          "output_type": "stream",
          "name": "stdout",
          "text": [
            "hello in uppercase: HELLO\n"
          ]
        }
      ]
    },
    {
      "cell_type": "code",
      "source": [
        "# 5.Write a code to replace the word \"apple\" with \"orange\" in the string \"I like apple\".\n",
        "\n",
        "str1 = \"I like apple\"\n",
        "print(str1)\n",
        "str2 = str1.replace(\"apple\",\"orange\")\n",
        "print(\"After Replacing:\",str2)"
      ],
      "metadata": {
        "colab": {
          "base_uri": "https://localhost:8080/"
        },
        "id": "zvNQX_tDXN5l",
        "outputId": "ebf01ca8-a91d-4134-c31b-785fe2752df7"
      },
      "execution_count": null,
      "outputs": [
        {
          "output_type": "stream",
          "name": "stdout",
          "text": [
            "I like apple\n",
            "After Replacing: I like orange\n"
          ]
        }
      ]
    },
    {
      "cell_type": "code",
      "source": [
        "# 6.Write a code to create a list with numbers 1 to 5 and print it.\n",
        "\n",
        "numbers = [1,2,3,4,5]\n",
        "print(numbers)"
      ],
      "metadata": {
        "colab": {
          "base_uri": "https://localhost:8080/"
        },
        "id": "S8MFwOdvYZdK",
        "outputId": "c4a8fd0f-8a0c-414c-c162-dbc075be1a7f"
      },
      "execution_count": null,
      "outputs": [
        {
          "output_type": "stream",
          "name": "stdout",
          "text": [
            "[1, 2, 3, 4, 5]\n"
          ]
        }
      ]
    },
    {
      "cell_type": "code",
      "source": [
        "# 7.Write a code to append the number 10 to the list [1, 2, 3, 4].\n",
        "\n",
        "lis1 = [1,2,3,4]\n",
        "lis1.append(10)\n",
        "print(lis1)"
      ],
      "metadata": {
        "colab": {
          "base_uri": "https://localhost:8080/"
        },
        "id": "n5PmYOUoYkLx",
        "outputId": "7ff9fb98-ff1e-489d-b4c9-c72c5a378a16"
      },
      "execution_count": null,
      "outputs": [
        {
          "output_type": "stream",
          "name": "stdout",
          "text": [
            "[1, 2, 3, 4, 10]\n"
          ]
        }
      ]
    },
    {
      "cell_type": "code",
      "source": [
        "# 8.Write a code to remove the number 3 from the list [1, 2, 3, 4, 5].\n",
        "\n",
        "lis2 = [1,2,3,4,5]\n",
        "lis2.remove(3)\n",
        "print(lis2)"
      ],
      "metadata": {
        "colab": {
          "base_uri": "https://localhost:8080/"
        },
        "id": "aD2XBOUIY6ZF",
        "outputId": "84657ca9-2449-494e-d183-839b851c7f8f"
      },
      "execution_count": null,
      "outputs": [
        {
          "output_type": "stream",
          "name": "stdout",
          "text": [
            "[1, 2, 4, 5]\n"
          ]
        }
      ]
    },
    {
      "cell_type": "code",
      "source": [
        "# 9.Write a code to access the second element in the list ['a', 'b', 'c', 'd'].\n",
        "\n",
        "lis3 = ['a','b','c','d']\n",
        "print(lis3[1])"
      ],
      "metadata": {
        "colab": {
          "base_uri": "https://localhost:8080/"
        },
        "id": "_lN04ORrZG5q",
        "outputId": "d0aa1230-e1b4-4ae6-867b-9366dfda068a"
      },
      "execution_count": null,
      "outputs": [
        {
          "output_type": "stream",
          "name": "stdout",
          "text": [
            "b\n"
          ]
        }
      ]
    },
    {
      "cell_type": "code",
      "source": [
        "# 10.Write a code to reverse the list [10, 20, 30, 40, 50].\n",
        "\n",
        "list1 = [10,20,30,40,50]\n",
        "print(list1[::-1])"
      ],
      "metadata": {
        "colab": {
          "base_uri": "https://localhost:8080/"
        },
        "id": "rdJ134xAZVmM",
        "outputId": "5399aa9d-4d86-40f3-8380-d6c78708ee99"
      },
      "execution_count": null,
      "outputs": [
        {
          "output_type": "stream",
          "name": "stdout",
          "text": [
            "[50, 40, 30, 20, 10]\n"
          ]
        }
      ]
    },
    {
      "cell_type": "code",
      "source": [
        "# 11.Write a code to create a tuple with the elements 100, 200, 300 and print it.\n",
        "\n",
        "tuple1 = (100,200,300)\n",
        "print(tuple1)"
      ],
      "metadata": {
        "colab": {
          "base_uri": "https://localhost:8080/"
        },
        "id": "k3TFFERDZkVm",
        "outputId": "905b80d2-9cb4-4369-f94b-6faf70d3cd39"
      },
      "execution_count": null,
      "outputs": [
        {
          "output_type": "stream",
          "name": "stdout",
          "text": [
            "(100, 200, 300)\n"
          ]
        }
      ]
    },
    {
      "cell_type": "code",
      "source": [
        "# 12.Write a code to access the second-to-last element of the tuple ('red', 'green', 'blue', 'yellow').\n",
        "\n",
        "tuple2 = ('red','green','blue','yellow')\n",
        "print(tuple2[1:])"
      ],
      "metadata": {
        "colab": {
          "base_uri": "https://localhost:8080/"
        },
        "id": "j3BcPcj0ZunB",
        "outputId": "1e53f5ae-0e35-4e81-b220-6414c3464608"
      },
      "execution_count": null,
      "outputs": [
        {
          "output_type": "stream",
          "name": "stdout",
          "text": [
            "('green', 'blue', 'yellow')\n"
          ]
        }
      ]
    },
    {
      "cell_type": "code",
      "source": [
        "# 13.Write a code to find the minimum number in the tuple (10, 20, 5, 15).\n",
        "\n",
        "tuple1 = (10,20,5,15)\n",
        "print(\"Minimum:\",min(tuple1))"
      ],
      "metadata": {
        "colab": {
          "base_uri": "https://localhost:8080/"
        },
        "id": "gyXvizBeaAxv",
        "outputId": "aa79d6a6-5a46-4662-da87-d28581b6e11b"
      },
      "execution_count": null,
      "outputs": [
        {
          "output_type": "stream",
          "name": "stdout",
          "text": [
            "Minimum: 5\n"
          ]
        }
      ]
    },
    {
      "cell_type": "code",
      "source": [
        "# 14.Write a code to find the index of the element \"cat\" in the tuple ('dog', 'cat', 'rabbit').\n",
        "\n",
        "tup = ('dog','cat','rabbit')\n",
        "print(\"Index of element cat:\",tup.index(\"cat\"))"
      ],
      "metadata": {
        "colab": {
          "base_uri": "https://localhost:8080/"
        },
        "id": "6_HggsGQaSQP",
        "outputId": "b91cd070-05f1-40b3-e7d2-cc441298170a"
      },
      "execution_count": null,
      "outputs": [
        {
          "output_type": "stream",
          "name": "stdout",
          "text": [
            "Index of element cat: 1\n"
          ]
        }
      ]
    },
    {
      "cell_type": "code",
      "source": [
        "# 15.Write a code to create a tuple containing three different fruits and check if \"kiwi\" is in it.\n",
        "\n",
        "fruits = (\"apple\",\"mango\",\"kiwi\")\n",
        "print('kiwi'in fruits)"
      ],
      "metadata": {
        "colab": {
          "base_uri": "https://localhost:8080/"
        },
        "id": "fNKAK5lhajIN",
        "outputId": "672db01d-c96c-4c38-b5f5-464dc6d76a2c"
      },
      "execution_count": null,
      "outputs": [
        {
          "output_type": "stream",
          "name": "stdout",
          "text": [
            "True\n"
          ]
        }
      ]
    },
    {
      "cell_type": "code",
      "source": [
        "# 16.Write a code to create a set with the elements 'a', 'b', 'c' and print it.\n",
        "\n",
        "set1 = {'a','b','c'}\n",
        "print(set1)"
      ],
      "metadata": {
        "colab": {
          "base_uri": "https://localhost:8080/"
        },
        "id": "RztnJJlQbJdI",
        "outputId": "b61a919f-cacc-4b4c-8f89-5e58066fc754"
      },
      "execution_count": null,
      "outputs": [
        {
          "output_type": "stream",
          "name": "stdout",
          "text": [
            "{'c', 'a', 'b'}\n"
          ]
        }
      ]
    },
    {
      "cell_type": "code",
      "source": [
        "# 17. Write a code to clear all elements from the set {1, 2, 3, 4, 5}.\n",
        "\n",
        "set2 = {1,2,3,4,5}\n",
        "print(set2)\n",
        "print(\"After clearing all elements:\")\n",
        "print(set2.clear())"
      ],
      "metadata": {
        "colab": {
          "base_uri": "https://localhost:8080/"
        },
        "id": "9Q-4TwWKbTJp",
        "outputId": "f61e0a74-a5da-4ff4-c3c5-415179f8ac04"
      },
      "execution_count": null,
      "outputs": [
        {
          "output_type": "stream",
          "name": "stdout",
          "text": [
            "{1, 2, 3, 4, 5}\n",
            "After clearing all elements:\n",
            "None\n"
          ]
        }
      ]
    },
    {
      "cell_type": "code",
      "source": [
        "# 18.Write a code to remove the element 4 from the set {1, 2, 3, 4}.\n",
        "\n",
        "set1 = {1,2,3,4}\n",
        "set1.remove(4)\n",
        "print(set1)"
      ],
      "metadata": {
        "colab": {
          "base_uri": "https://localhost:8080/"
        },
        "id": "EXZamsdZbnba",
        "outputId": "4a7a6d64-a8e2-4109-c766-e3a141001922"
      },
      "execution_count": null,
      "outputs": [
        {
          "output_type": "stream",
          "name": "stdout",
          "text": [
            "{1, 2, 3}\n"
          ]
        }
      ]
    },
    {
      "cell_type": "code",
      "source": [
        "# 19.Write a code to find the union of two sets {1, 2, 3} and {3, 4, 5}.\n",
        "\n",
        "set1 = {1,2,3}\n",
        "set2 = {3,4,5}\n",
        "union_set = set1 | set2\n",
        "print(union_set)"
      ],
      "metadata": {
        "colab": {
          "base_uri": "https://localhost:8080/"
        },
        "id": "hJK3x8tjby-j",
        "outputId": "4db4f1d5-d7f3-4b38-82f6-a2de8218f0b9"
      },
      "execution_count": null,
      "outputs": [
        {
          "output_type": "stream",
          "name": "stdout",
          "text": [
            "{1, 2, 3, 4, 5}\n"
          ]
        }
      ]
    },
    {
      "cell_type": "code",
      "source": [
        "# 20.Write a code to find the intersection of two sets {1, 2, 3} and {2, 3, 4}.\n",
        "\n",
        "set1 = {1,2,3}\n",
        "set2 = {2,3,4}\n",
        "intersection_set = set1 & set2\n",
        "print(intersection_set)"
      ],
      "metadata": {
        "colab": {
          "base_uri": "https://localhost:8080/"
        },
        "id": "sHiDQvw_cC4F",
        "outputId": "17e7b763-a78d-485c-a46e-66cb05e25533"
      },
      "execution_count": null,
      "outputs": [
        {
          "output_type": "stream",
          "name": "stdout",
          "text": [
            "{2, 3}\n"
          ]
        }
      ]
    },
    {
      "cell_type": "code",
      "source": [
        "# 21.Write a code to create a dictionary with the keys \"name\", \"age\", and \"city\", and print it.\n",
        "\n",
        "dic = {\"name\":\"Satwinder Kaur\",\"age\":21,\"city\":\"Jalandhar\"}\n",
        "dic"
      ],
      "metadata": {
        "colab": {
          "base_uri": "https://localhost:8080/"
        },
        "id": "eonUhoGAcVkX",
        "outputId": "287a8515-5d93-4956-e748-b6a91a938cb9"
      },
      "execution_count": null,
      "outputs": [
        {
          "output_type": "execute_result",
          "data": {
            "text/plain": [
              "{'name': 'Satwinder Kaur', 'age': 21, 'city': 'Jalandhar'}"
            ]
          },
          "metadata": {},
          "execution_count": 45
        }
      ]
    },
    {
      "cell_type": "code",
      "source": [
        "# 22. Write a code to add a new key-value pair \"country\": \"USA\" to the dictionary {'name': 'John', 'age': 25}.\n",
        "\n",
        "dic1 = {\"name\":\"John\",\"age\":25}\n",
        "dic2 = {\"country\":\"USA\"}\n",
        "dic1.update(dic2)\n",
        "print(dic1)"
      ],
      "metadata": {
        "colab": {
          "base_uri": "https://localhost:8080/"
        },
        "id": "UvWHjYklc3hy",
        "outputId": "52b803e3-c062-41e3-ea6d-0a192c62a3db"
      },
      "execution_count": null,
      "outputs": [
        {
          "output_type": "stream",
          "name": "stdout",
          "text": [
            "{'name': 'John', 'age': 25, 'country': 'USA'}\n"
          ]
        }
      ]
    },
    {
      "cell_type": "code",
      "source": [
        "# 23.Write a code to access the value associated with the key \"name\" in the dictionary {'name': 'Alice', 'age': 30}.\n",
        "\n",
        "dicti = {\"name\":\"Alice\",\"age\":30}\n",
        "print(dicti[\"name\"])"
      ],
      "metadata": {
        "colab": {
          "base_uri": "https://localhost:8080/"
        },
        "id": "eHJbkS1QdjM4",
        "outputId": "e36274ab-5682-43f8-c3ae-5368249d9b72"
      },
      "execution_count": null,
      "outputs": [
        {
          "output_type": "stream",
          "name": "stdout",
          "text": [
            "Alice\n"
          ]
        }
      ]
    },
    {
      "cell_type": "code",
      "source": [
        "# 24.Write a code to remove the key \"age\" from the dictionary {'name': 'Bob', 'age': 22, 'city': 'New York'}.\n",
        "\n",
        "dic = {'name':'Bob','age':22,'city':'New York'}\n",
        "dic.pop(\"age\")\n",
        "print(dic)"
      ],
      "metadata": {
        "colab": {
          "base_uri": "https://localhost:8080/"
        },
        "id": "LFvkGaVrdxZq",
        "outputId": "f2c9f0f4-9d56-4a4e-c93d-0ae75169595f"
      },
      "execution_count": null,
      "outputs": [
        {
          "output_type": "stream",
          "name": "stdout",
          "text": [
            "{'name': 'Bob', 'city': 'New York'}\n"
          ]
        }
      ]
    },
    {
      "cell_type": "code",
      "source": [
        "# 25.Write a code to check if the key \"city\" exists in the dictionary {'name': 'Alice', 'city': 'Paris'}.\n",
        "\n",
        "dici = {'name':'Alice','city':'Paris'}\n",
        "print('city'in dici)"
      ],
      "metadata": {
        "colab": {
          "base_uri": "https://localhost:8080/"
        },
        "id": "657scOANeR5_",
        "outputId": "77cd6cc4-fdd4-44bc-bcec-c848440f45d5"
      },
      "execution_count": null,
      "outputs": [
        {
          "output_type": "stream",
          "name": "stdout",
          "text": [
            "True\n"
          ]
        }
      ]
    },
    {
      "cell_type": "code",
      "source": [
        "# 26.Write a code to create a list, a tuple, and a dictionary, and print them all.\n",
        "\n",
        "lis = [2,3.4,\"hi\",True]\n",
        "tup = (20,3.22,\"hello\",False)\n",
        "dic = {\"integer\":2, \"floating\": 3.22,\"boolean\":True,\"String\":\"hi\"}\n",
        "print(\"List:\",lis)\n",
        "print(\"Tuple:\",tup)\n",
        "print(\"Dictionary:\",dic)"
      ],
      "metadata": {
        "colab": {
          "base_uri": "https://localhost:8080/"
        },
        "id": "1XjU_eurep4Q",
        "outputId": "29911355-b027-4967-f7cd-fa8c8fa7c291"
      },
      "execution_count": null,
      "outputs": [
        {
          "output_type": "stream",
          "name": "stdout",
          "text": [
            "List: [2, 3.4, 'hi', True]\n",
            "Tuple: (20, 3.22, 'hello', False)\n",
            "Dictionary: {'integer': 2, 'floating': 3.22, 'boolean': True, 'String': 'hi'}\n"
          ]
        }
      ]
    },
    {
      "cell_type": "code",
      "source": [
        "# 27.Write a code to create a list of 5 random numbers between 1 and 100, sort it in ascending order and print the result.\n",
        "\n",
        "import random\n",
        "numbers =[random.randint(1,5) for i in range(5)]\n",
        "numbers.sort()\n",
        "print(\"Sorted numbers:\",numbers)"
      ],
      "metadata": {
        "colab": {
          "base_uri": "https://localhost:8080/"
        },
        "id": "wY-tcS_60xaw",
        "outputId": "135ba6a4-4ed4-47c8-c450-002030ceb958"
      },
      "execution_count": 6,
      "outputs": [
        {
          "output_type": "stream",
          "name": "stdout",
          "text": [
            "Sorted numbers: [1, 1, 2, 2, 5]\n"
          ]
        }
      ]
    },
    {
      "cell_type": "code",
      "source": [
        "# 28.Write a code to create a list with strings and print the element at the third index.\n",
        "\n",
        "lis = [\"aman\",\"raman\",\"daman\",\"pawan\",\"suman\"]\n",
        "print(lis[3])"
      ],
      "metadata": {
        "colab": {
          "base_uri": "https://localhost:8080/"
        },
        "id": "gppyH5jzgFwM",
        "outputId": "32a84aca-8aab-4e2f-a1e9-b78cd7520ecc"
      },
      "execution_count": null,
      "outputs": [
        {
          "output_type": "stream",
          "name": "stdout",
          "text": [
            "pawan\n"
          ]
        }
      ]
    },
    {
      "cell_type": "code",
      "source": [
        "# 29. Write a code to combine two dictionaries into one and print the result.\n",
        "\n",
        "fav ={'color':'black','fruit':'mango',}\n",
        "person ={'name':'Sandy','age':21}\n",
        "person.update(fav)\n",
        "print(person)"
      ],
      "metadata": {
        "colab": {
          "base_uri": "https://localhost:8080/"
        },
        "id": "wr7DvINAgHyw",
        "outputId": "816bbe2d-4320-4ad1-be6d-3766c669f768"
      },
      "execution_count": null,
      "outputs": [
        {
          "output_type": "stream",
          "name": "stdout",
          "text": [
            "{'name': 'Sandy', 'age': 21, 'color': 'black', 'fruit': 'mango'}\n"
          ]
        }
      ]
    },
    {
      "cell_type": "code",
      "source": [
        "# 30.Write a code to convert a list of strings into a set.\n",
        "\n",
        "print(\"List of String:\",lis)\n",
        "print(\"Converted:\",set(lis))"
      ],
      "metadata": {
        "colab": {
          "base_uri": "https://localhost:8080/"
        },
        "id": "fBdBuB_AgNSC",
        "outputId": "7a13a76f-191b-4642-d960-8bdcf0e3e822"
      },
      "execution_count": null,
      "outputs": [
        {
          "output_type": "stream",
          "name": "stdout",
          "text": [
            "List of String: ['aman', 'raman', 'daman', 'pawan', 'suman']\n",
            "Converted: {'aman', 'suman', 'pawan', 'daman', 'raman'}\n"
          ]
        }
      ]
    }
  ]
}