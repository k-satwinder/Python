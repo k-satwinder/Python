{
  "nbformat": 4,
  "nbformat_minor": 0,
  "metadata": {
    "colab": {
      "provenance": []
    },
    "kernelspec": {
      "name": "python3",
      "display_name": "Python 3"
    },
    "language_info": {
      "name": "python"
    }
  },
  "cells": [
    {
      "cell_type": "markdown",
      "source": [
        "***PYTHON OOPs QUESTIONS***\n",
        "\n",
        "\n",
        "---\n",
        "\n"
      ],
      "metadata": {
        "id": "f8kJGWIgYIoP"
      }
    },
    {
      "cell_type": "markdown",
      "source": [
        "Q1: What is Object-Oriented Programming (OOP)?\n",
        "\n",
        "\n",
        "---\n",
        "Ans: OOP refers to Object Oriented Programming, a language that uses the concept of objects and classes.OOP ia s way of organizing code that use objects and classes to represent real world entities.The main aim of OOP is to bind together the data and functions.OOP binds both data and function in a single unit.Four basic pillars of OOPs are:\n",
        "* Inheritance\n",
        "* Abstraction\n",
        "* Polymorphism\n",
        "* Encapsulation\n",
        "\n",
        "Example: In a school or college various students are studying, so their must be some details of students that are personal or common , these details can be data or function and a single student can be object of class student\n",
        "\n",
        "\n",
        "```\n",
        "class Student:\n",
        "     \n",
        "      # some data/attributes\n",
        "      # some functions/methods\n",
        "\n",
        "object1 = Student()\n",
        "```\n",
        "\n",
        "\n",
        "\n",
        "\n"
      ],
      "metadata": {
        "id": "4PUuQItoYQo4"
      }
    },
    {
      "cell_type": "markdown",
      "source": [
        "Q2: What is a class in OOP?\n",
        "\n",
        "\n",
        "---\n",
        "Ans: A class is a blueprint of object. It defines a set of attributes and methods that instances can have. In other words, class is a collection of objects. In Python, Classes are created usign class keyword.\n",
        "\n",
        "\n",
        "```\n",
        "Class Car:      # creating class\n",
        "  # some attributes and methods\n",
        "c = Car()\n",
        "```\n",
        "\n",
        "\n",
        "\n",
        "\n"
      ],
      "metadata": {
        "id": "4aP_On88cYBQ"
      }
    },
    {
      "cell_type": "markdown",
      "source": [
        "Q3: What is an object in OOP?\n",
        "\n",
        "\n",
        "---\n",
        "Ans: An object in OOP is an instance of a Class.It represents specific implementation of class. It combines attributes and methods into a single unit.\n",
        "\n",
        "\n",
        "```\n",
        "class Car:\n",
        "     # code\n",
        "c = Car()  # creating object c for class Car\n",
        "```\n",
        "\n",
        "\n"
      ],
      "metadata": {
        "id": "5q1QhThHfqh4"
      }
    },
    {
      "cell_type": "markdown",
      "source": [
        "Q4: What is the difference between abstraction and encapsulation?\n",
        "\n",
        "\n",
        "---\n",
        "Ans:\n",
        "* Abstraction hides complex implementation details and show only the essential features or relevant details of an object.\n",
        "* Encapsulation binds data and methods together and restrict direct access to internal details or components.\n",
        "\n",
        "Example.\n",
        "* Abstraction: we can only see buttons on TV remote but cannot see how it works\n",
        "* Encapsulation: the mixture of medicine in capsule (for oop, half is data another half is method).\n",
        "\n",
        "\n"
      ],
      "metadata": {
        "id": "DI0kwEiyge5u"
      }
    },
    {
      "cell_type": "markdown",
      "source": [
        "Q5:What are dunder methods in Python?\n",
        "\n",
        "\n",
        "---\n",
        "Ans: Dunder methods are some special methods in python. These are also known as magic methods.Dunder methods are methods defined by built in classes in Python.They makes classes behave like built in types. Classes define this method for creating custom objects or implementing operator overloading in python.It is clear from name Dunder (D- double+under-underscore),means methods that start and end with double-underscore(like __ init __).\n",
        "some common magic methods:\n",
        "* __ init __  initialize instance attributes\n",
        "* __ call __  make object callable like function , etc.\n",
        "\n",
        "\n"
      ],
      "metadata": {
        "id": "PaEE116xiGJC"
      }
    },
    {
      "cell_type": "markdown",
      "source": [
        "Q6: Explain the concept of inheritance in OOPs.\n",
        "\n",
        "\n",
        "---\n",
        "Ans: Inheritance means to inherit feature of parent in child.In OOPs, inheritance is mechanism where a derived class inherits some properties and behaviour of base class.It is like defining hierarchy by inheriting properties and methods from parent class.Key aspects of inheritance:\n",
        "* Base Class - parent class or superclass, existing class from which properties are inherited.\n",
        "* Derived Class - child class or subclass, new class that inherits the properties of base class.\n",
        "\n",
        "Example: son inheriting property of father.\n",
        "\n",
        "\n",
        "```\n",
        "class Father:\n",
        "    #code\n",
        "class Son(Father):\n",
        "    #code\n",
        "s = Son()\n",
        "```\n",
        "\n",
        "\n",
        "\n"
      ],
      "metadata": {
        "id": "ZxF0XFwLmV35"
      }
    },
    {
      "cell_type": "markdown",
      "source": [
        "Q7: What is polymorphism in OOP?\n",
        "\n",
        "\n",
        "---\n",
        "Ans: Polymorphism defines word as Poly means many and morphism means forms. So, it is clear from word that polymorphism means many forms.In OOPs, polymorphism is the ability of objects and functions to take multiple behaviours with same name that can be executed on many objects or classes.\n",
        "* Method overloading - true method overloading is not support by python but it can be achieved using default arguments\n",
        "* Method overriding - defining same method with same arguments, override all methods.\n",
        "\n",
        "Example: A remote control can operate multiple devices like a TV,AC or music system.Polymorphism here means same method (power button) but different functionality (objects).\n",
        "\n",
        "\n"
      ],
      "metadata": {
        "id": "UqnVsdjfo2xb"
      }
    },
    {
      "cell_type": "markdown",
      "source": [
        "Q8: How is encapsulation achieved in Python?\n",
        "\n",
        "\n",
        "---\n",
        "Ans: Encapsulation means hiding internal details and only exposing relevant portion what's necessary.It helps to protect data from being changed and keeps code secure.To achieve encapsulation access specifiers are defined to how class members can be accessd and implement encapsulation by controlling internal detail of data.Access Specifiers are of three types:\n",
        "* Public - Making variable or method public means that can be accessed from anywhere. By default all members are public.\n",
        "Example:\n",
        "```\n",
        "self.name = name # public attribute\n",
        "def output(self) #public method\n",
        "```\n",
        "* Private - Private members cannot be accessed directly from outside the class.They used to restrict access and protect internal data. Private members are defined using __ as prefix.\n",
        "Example:\n",
        "```\n",
        "self.__name = name #private attribute\n",
        "def __output(self) #private method\n",
        "```\n",
        "* Protected - Protected members can only be accessed within class or subclasses,they are defined using _ as prefix.\n",
        "Example:\n",
        "\n",
        "\n",
        "```\n",
        "self._name = name # protected attribute\n",
        "def _output(self) # protected method\n",
        "```\n",
        "\n",
        "\n",
        "\n",
        "\n",
        "\n"
      ],
      "metadata": {
        "id": "eTDBkBiI2kHK"
      }
    },
    {
      "cell_type": "markdown",
      "source": [
        "Q9: What is a constructor in Python?\n",
        "\n",
        "\n",
        "---\n",
        "Ans: Constructor is a special method used to initialize objects when a class is instantiated. It is defined by using __  init  __ method.It is called immediately when object is created.\n",
        "Example:\n",
        "\n",
        "\n",
        "```\n",
        "class A:\n",
        "    def __init__(self,name):\n",
        "          self.name = name\n",
        "a = A(\"Parm\")\n",
        "```\n",
        "\n",
        "\n"
      ],
      "metadata": {
        "id": "lbWKuYp15X0D"
      }
    },
    {
      "cell_type": "markdown",
      "source": [
        "Q10: What are class and static methods in Python?\n",
        "\n",
        "\n",
        "---\n",
        "Ans:\n",
        "* Class method - A method that belongs to the class not instances. It recieves cls as a first argument instead of self.This method is used to access or modify data at class level. @classmethod decorator is used for creating class methods\n",
        "* Static method - This method behaves like a regular method but cannot access or modify class or instance data. @staticmethod decorator is used to define a static method. It has no self or cls parameter.\n",
        "Example:\n",
        "\n",
        "\n",
        "```\n",
        "@classmethod\n",
        "def fun_name(cls, new):\n",
        "     cls.previous = new\n",
        "\n",
        "@staticmethod\n",
        "def fun_name(self,parameter):\n",
        "     return # but cannot modify contain fixed value\n",
        "```\n",
        "\n",
        "\n",
        "\n"
      ],
      "metadata": {
        "id": "9h0fo37d6Tgw"
      }
    },
    {
      "cell_type": "markdown",
      "source": [
        "Q11: What is method overloading in Python?\n",
        "\n",
        "\n",
        "---\n",
        "Ans: Method overloading refers to the method of having same name but different parameter.However, unlike other languages Python does not support true method overloading. Although, it can be achieved using default arguments , variable arguments or some conditional logic.\n",
        "Example:\n",
        "\n",
        "\n",
        "```\n",
        "class Greet:\n",
        "     def say(self,name=\"Parm\"):\n",
        "          return name\n",
        "g = Greet()\n",
        "g.say()\n",
        "g.say(\"Sandy\")\n",
        "```\n",
        "\n",
        "\n",
        "\n"
      ],
      "metadata": {
        "id": "4fQS6llk9UiE"
      }
    },
    {
      "cell_type": "markdown",
      "source": [
        "Q12: What is method overriding in OOP?\n",
        "\n",
        "\n",
        "---\n",
        "Ans: Method overriding concept defines that a child class can have method with same name,parameters and signatures as in the parent class.When a child class object is called then method overrides the parent method and execute the child method.It is used to implement polymorphism concept where same method behaves differently based on situation of objects.\n",
        "Example:\n",
        "\n",
        "```\n",
        "class A:\n",
        "    def say(self):\n",
        "       return \"hii\"\n",
        "class B(A):\n",
        "    def say(self):\n",
        "       return \"Hello\"\n",
        "b = B()\n",
        "b.say()  # execute Hello\n",
        "```\n",
        "\n"
      ],
      "metadata": {
        "id": "143PhRaf-4vV"
      }
    },
    {
      "cell_type": "markdown",
      "source": [
        "Q13: What is a property decorator in Python?\n",
        "\n",
        "\n",
        "---\n",
        "Ans: The @property decorator in Python is used to turn a method into a read-only attribute. It allows you to define a method that can be accessed like an attribute.It allowed to use class method as attribute.\n",
        "Example:\n",
        "\n",
        "\n",
        "```\n",
        "class Circle:\n",
        "    def __init__(self, radius):\n",
        "        self.radius = radius\n",
        "    @property\n",
        "    def area(self):\n",
        "        return 3.14 * self.radius ** 2\n",
        "c = Circle(5)\n",
        "print(c.area)\n",
        "```\n",
        "\n",
        "\n"
      ],
      "metadata": {
        "id": "jgEmB8K3AUTM"
      }
    },
    {
      "cell_type": "markdown",
      "source": [
        "Q14: Why is polymorphism important in OOP?\n",
        "\n",
        "\n",
        "---\n",
        "Ans: Importance of Polymorphism:\n",
        "* Reusability - Code is reusable that works with multiple types of object\n",
        "* Scalability - can add new members without changing existing code\n",
        "* Helpful for inheritance - allow child class to override methods of parent class\n",
        "* Ensures consistent interfaces across different classes.\n",
        "\n",
        "\n",
        "\n",
        "\n",
        "\n"
      ],
      "metadata": {
        "id": "uIJoThXABSQP"
      }
    },
    {
      "cell_type": "markdown",
      "source": [
        "Q15: What is an abstract class in Python?\n",
        "\n",
        "\n",
        "---\n",
        "Ans: An abstract class is a class that cannot be instantiated directly and is meant to be inherited by other class.It defines a common interface for a group of related class.Example\n",
        "\n",
        "\n",
        "```\n",
        "from abc import ABC, abstractmethod\n",
        "class Animal(ABC):              # Abstract class\n",
        "    @abstractmethod\n",
        "    def sound(self):          \n",
        "        pass\n",
        "class Dog(Animal):             \n",
        "    def sound(self):\n",
        "        print(\"Bark!\")\n",
        "d = Dog()\n",
        "d.sound()        \n",
        "```\n",
        "\n",
        "\n",
        "\n"
      ],
      "metadata": {
        "id": "r_1-MgE-Cv1P"
      }
    },
    {
      "cell_type": "markdown",
      "source": [
        "Q16: What are the advantages of OOP?\n",
        "\n",
        "\n",
        "---\n",
        "Ans:\n",
        "* Modularity - Code is organized in class and objects easy to understand and resuable\n",
        "* Encapsulation - protects internal details and control accessability\n",
        "* Inheritance - inherit properties of existing ones\n",
        "* Abstraction - focus on external feature and hides internals\n",
        "* Polymorphism - same methods but functionality different\n",
        "* Maintainability - easy to update and maintain code.\n",
        "\n"
      ],
      "metadata": {
        "id": "WsieU_PKEXYP"
      }
    },
    {
      "cell_type": "markdown",
      "source": [
        "Q17: What is the difference between a class variable and an instance variable?\n",
        "\n",
        "\n",
        "---\n",
        "Ans:\n",
        "\n",
        "* class variable is shared by all instances of class while instance variable is unique per object.\n",
        "* class variable is defined in class body while instance variable is defined using __ init __ method.\n",
        "* class variable is accessed by class or object while instance variable is only accessed using object.\n",
        "\n",
        "\n",
        "\n",
        "\n"
      ],
      "metadata": {
        "id": "0OYeDWHgFxRA"
      }
    },
    {
      "cell_type": "markdown",
      "source": [
        "Q18: What is multiple inheritance in Python?\n",
        "\n",
        "\n",
        "---\n",
        "Ans: Multiple inheritance is type of inheritance where a child class can inherit features of one or more parent classes.In other words, a derived class can be inherited from multiple base classes.\n",
        "\n",
        "\n",
        "```\n",
        "#syntax:\n",
        "\n",
        "class base:\n",
        "    #code\n",
        "class base2:\n",
        "    #code\n",
        "class derived(base,base2):\n",
        "    #code\n",
        "```\n",
        "\n",
        "\n"
      ],
      "metadata": {
        "id": "NoNUNlj9Gy93"
      }
    },
    {
      "cell_type": "markdown",
      "source": [
        "Q19: Explain the purpose of ‘’__str__’ and ‘__repr__’ ‘ methods in Python.\n",
        "\n",
        "\n",
        "---\n",
        "Ans: \"__ str __ \" - will return a string representation of method, while \" __ repr __ \"  - will return an unambigious string representation of an object.\n",
        "\n"
      ],
      "metadata": {
        "id": "3yL9YKbcHZ1_"
      }
    },
    {
      "cell_type": "markdown",
      "source": [
        "Q20: What is the significance of the ‘super()’ function in Python?\n",
        "\n",
        "\n",
        "---\n",
        "Ans: super() returns a temporary object of superclass or baseclass that allows to call it's methods.It is commonly used for method overriding purpose to access the implementation of superclass in subclass.It's significance is that it is used in multiple inheritance to ensure that the correct method is called.\n"
      ],
      "metadata": {
        "id": "SbjA5b7LJkcL"
      }
    },
    {
      "cell_type": "markdown",
      "source": [
        "Q21: What is the significance of the  __ del __ method in Python?\n",
        "\n",
        "\n",
        "---\n",
        "Ans:The __ del __ method in Python is a dunder method. It is called when an object is about to destroyed.It's significance is that it allow cleanup operations before the object is removed from memory. It is like a destructor of class.\n",
        "\n"
      ],
      "metadata": {
        "id": "UYxNPil1YpNU"
      }
    },
    {
      "cell_type": "markdown",
      "source": [
        "Q22: What is the difference between @staticmethod and @classmethod in Python?\n",
        "\n",
        "\n",
        "---\n",
        "Ans: Both @staticmethod and @classmethod are known as decorators in Python.\n",
        "* @classmethod belongs to class while @staticmethod is similar to regular methods.\n",
        "* @classmethod requires first argument 'cls' while thier is neither self nor cls argument in @staticmethod.\n",
        "* @classmethod a decorator of class methods - can access or modify members at class-level while @staticmethod a decorator of static methods can neither access nor modify class or instance attributes.\n",
        "\n",
        "\n",
        "\n",
        "\n"
      ],
      "metadata": {
        "id": "ZSvfCzcaZ5Eb"
      }
    },
    {
      "cell_type": "markdown",
      "source": [
        "Q23: How does polymorphism work in Python with inheritance?\n",
        "\n",
        "\n",
        "---\n",
        "Ans: Working of Polymorphism with inheritance:- firslty base class defines method then subclass inherits same method with it's own implementation.Then subclass object created and method can be called, method of sublass will override the base class method and executes it's own.\n",
        "\n",
        "\n",
        "```\n",
        "class A:\n",
        "   def sound(self):\n",
        "       #code\n",
        "class B(A):\n",
        "   def sound(self): # inheriting same property,implementing own functionality\n",
        "       # code\n",
        "\n",
        "# override the sound() of base class and hence, both polymorphism and inheritance works.\n",
        "```\n",
        "\n"
      ],
      "metadata": {
        "id": "7QBfy2m8bLby"
      }
    },
    {
      "cell_type": "markdown",
      "source": [
        "Q24: What is method chaining in Python OOP?\n",
        "\n",
        "\n",
        "---\n",
        "Ans:Method chainig is a way to call multiple methods of a class on the same object using single line. In simple words, calling multiple methods for same object in single line.\n",
        "\n",
        "\n",
        "```\n",
        "Example:\n",
        "object1 = ClassName()\n",
        "object1.Method1().Method2().Method3()\n",
        "```\n",
        "\n",
        "\n"
      ],
      "metadata": {
        "id": "_we3f8NQbRbi"
      }
    },
    {
      "cell_type": "markdown",
      "source": [
        "Q25: What is the purpose of the __call__ method in Python?\n",
        "\n",
        "\n",
        "---\n",
        "Ans: The __ call __ method is known as special method in Python. It allows an instance of a class to be called like a function,which means object can be directly invoked using paranthesis() just like calling regular function.\n"
      ],
      "metadata": {
        "id": "E6O3Lo-_bW7U"
      }
    },
    {
      "cell_type": "markdown",
      "source": [
        "***PRACTICAL QUESTIONS***\n",
        "\n",
        "\n",
        "---\n",
        "\n"
      ],
      "metadata": {
        "id": "D30_KcZYeDL6"
      }
    },
    {
      "cell_type": "code",
      "source": [
        "# 1. Create a parent class Animal with a method speak() that prints a generic message. Create a child class Dog\n",
        "# that overrides the speak() method to print \"Bark!\"\n",
        "\n",
        "class Animal:\n",
        "  def speak(self):\n",
        "    return \"Animal Speaks\"\n",
        "class Dog(Animal):\n",
        "  def speak(self):\n",
        "    return \"Bark!\"\n",
        "d = Dog()\n",
        "d.speak()"
      ],
      "metadata": {
        "colab": {
          "base_uri": "https://localhost:8080/",
          "height": 36
        },
        "id": "BTXMTAHbeOtf",
        "outputId": "824b8c1f-7515-49e5-af77-b76d3255503d"
      },
      "execution_count": null,
      "outputs": [
        {
          "output_type": "execute_result",
          "data": {
            "text/plain": [
              "'Bark!'"
            ],
            "application/vnd.google.colaboratory.intrinsic+json": {
              "type": "string"
            }
          },
          "metadata": {},
          "execution_count": 1
        }
      ]
    },
    {
      "cell_type": "code",
      "source": [
        "# 2. Write a program to create an abstract class Shape with a method area(). Derive classes Circle and Rectangle\n",
        "# from it and implement the area() method in both.\n",
        "\n",
        "from abc import ABC,abstractmethod\n",
        "class Shape(ABC):\n",
        "  @abstractmethod\n",
        "  def area(self):\n",
        "    pass\n",
        "class Circle(Shape):\n",
        "  def __init__(self,radius):\n",
        "    self.radius = radius\n",
        "  def area(self):\n",
        "    return 3.14*self.radius**2\n",
        "class Rectangle(Shape):\n",
        "  def __init__(self,length,width):\n",
        "    self.length = length\n",
        "    self.width = width\n",
        "  def area(self):\n",
        "    return self.length*self.width\n",
        "circle = Circle(5)\n",
        "rectangle = Rectangle(4,7)\n",
        "print(\"Area Of Circle\",circle.area())\n",
        "print(\"Area Of Rectangle\",rectangle.area())"
      ],
      "metadata": {
        "colab": {
          "base_uri": "https://localhost:8080/"
        },
        "id": "ZJ02OP_YfHuL",
        "outputId": "d2aec531-60d2-4244-f754-29858f1b330f"
      },
      "execution_count": null,
      "outputs": [
        {
          "output_type": "stream",
          "name": "stdout",
          "text": [
            "Area Of Circle 78.5\n",
            "Area Of Rectangle 28\n"
          ]
        }
      ]
    },
    {
      "cell_type": "code",
      "source": [
        "# 3.Implement a multi-level inheritance scenario where a class Vehicle has an attribute type. Derive a class Car\n",
        "# and further derive a class ElectricCar that adds a battery attribute.\n",
        "\n",
        "class Vehicle:\n",
        "  def __init__(self,type):\n",
        "    self.type = type\n",
        "  def show(self):\n",
        "    print(\"Vechicel type is\",self.type)\n",
        "class Car(Vehicle):\n",
        "  def __init__(self,type,model):\n",
        "    super().__init__(type)\n",
        "    self.model = model\n",
        "  def output(self):\n",
        "    print(\"Model is\",self.model)\n",
        "class ElectricCar(Car):\n",
        "  def __init__(self,type,model,battery):\n",
        "    super().__init__(type,model)\n",
        "    self.battery = battery\n",
        "  def display(self):\n",
        "    print(\"Battery capacity is\",self.battery)\n",
        "\n",
        "e = ElectricCar(\"Four Wheeler\",\"Tesla\",\"78\")\n",
        "e.show()\n",
        "e.output()\n",
        "e.display()"
      ],
      "metadata": {
        "id": "2xsvmVx7h2WM",
        "colab": {
          "base_uri": "https://localhost:8080/"
        },
        "outputId": "ea02ef40-884d-4e5c-8f86-847e4cd5284d"
      },
      "execution_count": 2,
      "outputs": [
        {
          "output_type": "stream",
          "name": "stdout",
          "text": [
            "Vechicel type is Four Wheeler\n",
            "Model is Tesla\n",
            "Battery capacity is 78\n"
          ]
        }
      ]
    },
    {
      "cell_type": "code",
      "source": [
        "# 4. Demonstrate polymorphism by creating a base class Bird with a method fly(). Create two derived classes\n",
        "# Sparrow and Penguin that override the fly() method.\n",
        "\n",
        "class Bird:\n",
        "  def fly(self):\n",
        "    return \"Bird is flying\"\n",
        "class Sparrow(Bird):\n",
        "  def fly(self):\n",
        "    return \"Sparrow is flying\"\n",
        "class Penguin(Bird):\n",
        "  def fly(self):\n",
        "    return \"Penguin cannot fly\"\n",
        "\n",
        "bird1 = Sparrow()\n",
        "bird2 = Penguin()\n",
        "bird1.fly()\n",
        "bird2.fly()\n"
      ],
      "metadata": {
        "colab": {
          "base_uri": "https://localhost:8080/",
          "height": 36
        },
        "id": "nlIkr3KgiVVy",
        "outputId": "867c6c03-eeb4-468f-bf37-a825a578dd46"
      },
      "execution_count": null,
      "outputs": [
        {
          "output_type": "execute_result",
          "data": {
            "text/plain": [
              "'Penguin cannot fly'"
            ],
            "application/vnd.google.colaboratory.intrinsic+json": {
              "type": "string"
            }
          },
          "metadata": {},
          "execution_count": 8
        }
      ]
    },
    {
      "cell_type": "code",
      "source": [
        "# 5.Write a program to demonstrate encapsulation by creating a class BankAccount with private attributes\n",
        "# balance and methods to deposit, withdraw, and check balance.\n",
        "\n",
        "class BankAccount:\n",
        "  def __init__(self,balance):\n",
        "    self.__balance = balance\n",
        "  def deposit(self,amount):\n",
        "    self.__balance += amount\n",
        "    print(f'Amount Deposit {amount}')\n",
        "  def withdraw(self,amount):\n",
        "    if amount <= self.__balance:\n",
        "      self.__balance -= amount\n",
        "      print(f'Amount Withdraw {amount}')\n",
        "    else:\n",
        "      print(\"Insufficient Balance!\")\n",
        "  def check_balance(self):\n",
        "    return f'Current Balance {self.__balance}'\n",
        "b = BankAccount(15000)\n",
        "b.deposit(20000)\n",
        "b.withdraw(5000)\n",
        "b.check_balance()"
      ],
      "metadata": {
        "id": "SdnPDvd5kKRq",
        "colab": {
          "base_uri": "https://localhost:8080/",
          "height": 70
        },
        "outputId": "01ef04db-ca51-4ae3-92fe-1afd0f24d781"
      },
      "execution_count": 4,
      "outputs": [
        {
          "output_type": "stream",
          "name": "stdout",
          "text": [
            "Amount Deposit 20000\n",
            "Amount Withdraw 5000\n"
          ]
        },
        {
          "output_type": "execute_result",
          "data": {
            "text/plain": [
              "'Current Balance 30000'"
            ],
            "application/vnd.google.colaboratory.intrinsic+json": {
              "type": "string"
            }
          },
          "metadata": {},
          "execution_count": 4
        }
      ]
    },
    {
      "cell_type": "code",
      "source": [
        "# 6. Demonstrate runtime polymorphism using a method play() in a base class Instrument. Derive classes Guitar\n",
        "# and Piano that implement their own version of play().\n",
        "\n",
        "class Instrument:\n",
        "  def play(self):\n",
        "    return \"Playing an Instrument\"\n",
        "class Guitar(Instrument):\n",
        "  def play(self):\n",
        "    return \"Playing Guitar\"\n",
        "class Piano(Instrument):\n",
        "  def play(self):\n",
        "    return \"Playing Piano\"\n",
        "\n",
        "obj1 = Guitar()\n",
        "obj2 = Piano()\n",
        "obj1.play()\n",
        "obj2.play()"
      ],
      "metadata": {
        "id": "bo5GyO08nqkQ",
        "colab": {
          "base_uri": "https://localhost:8080/",
          "height": 36
        },
        "outputId": "6b68c2e8-bfb4-45c4-eba1-abda930fead5"
      },
      "execution_count": 5,
      "outputs": [
        {
          "output_type": "execute_result",
          "data": {
            "text/plain": [
              "'Playing Piano'"
            ],
            "application/vnd.google.colaboratory.intrinsic+json": {
              "type": "string"
            }
          },
          "metadata": {},
          "execution_count": 5
        }
      ]
    },
    {
      "cell_type": "code",
      "source": [
        "# 7. Create a class MathOperations with a class method add_numbers() to add two numbers and a static\n",
        "# method subtract_numbers() to subtract two numbers.\n",
        "\n",
        "class MathOperations:\n",
        "  @classmethod\n",
        "  def add_numbers(cls,x,y):\n",
        "    return x+y\n",
        "\n",
        "  @staticmethod\n",
        "  def subtract_numbers(x,y):\n",
        "    return x-y\n",
        "\n",
        "m1 = MathOperations()\n",
        "print(\"Addition:\",m1.add_numbers(5,6))\n",
        "print(\"Subtraction:\",m1.subtract_numbers(5,6))"
      ],
      "metadata": {
        "id": "xriksGOMntOm",
        "colab": {
          "base_uri": "https://localhost:8080/"
        },
        "outputId": "33ef8e72-c327-41bf-cac5-c543b7dea946"
      },
      "execution_count": 9,
      "outputs": [
        {
          "output_type": "stream",
          "name": "stdout",
          "text": [
            "Addition: 11\n",
            "Subtraction: -1\n"
          ]
        }
      ]
    },
    {
      "cell_type": "code",
      "source": [
        "# 8.Implement a class Person with a class method to count the total number of persons created.\n",
        "\n",
        "class Person:\n",
        "  count = 0\n",
        "  def __init__(self,name):\n",
        "    self.name = name\n",
        "    Person.count += 1\n",
        "  @classmethod\n",
        "  def total_number(cls):\n",
        "    return f'Total number of person created {cls.count}'\n",
        "\n",
        "p1 = Person(\"Alice\")\n",
        "p2 = Person(\"Romaaz\")\n",
        "p3 = Person(\"Yuvi\")\n",
        "Person.total_number()"
      ],
      "metadata": {
        "id": "bMYUsVBznx-M",
        "colab": {
          "base_uri": "https://localhost:8080/",
          "height": 36
        },
        "outputId": "2dc941d3-6e90-4e59-c9e9-b4be0c07d3c8"
      },
      "execution_count": 12,
      "outputs": [
        {
          "output_type": "execute_result",
          "data": {
            "text/plain": [
              "'Total number of person created 3'"
            ],
            "application/vnd.google.colaboratory.intrinsic+json": {
              "type": "string"
            }
          },
          "metadata": {},
          "execution_count": 12
        }
      ]
    },
    {
      "cell_type": "code",
      "source": [
        "# 9. Write a class Fraction with attributes numerator and denominator. Override the str method to display the\n",
        "# fraction as \"numerator/denominator\".\n",
        "\n",
        "class Fraction:\n",
        "  def __init__(self,numerator,denominator):\n",
        "    self.numerator = numerator\n",
        "    self.denominator = denominator\n",
        "  def __str__(self):\n",
        "    return f\"{self.numerator}/{self.denominator}\"\n",
        "f = Fraction(3,4)\n",
        "f = Fraction(5,6)\n",
        "print(f)"
      ],
      "metadata": {
        "id": "Ahlas0OVn218",
        "colab": {
          "base_uri": "https://localhost:8080/"
        },
        "outputId": "ccc0bcbc-a5f1-4846-ca7b-7a1dee5f512e"
      },
      "execution_count": 41,
      "outputs": [
        {
          "output_type": "stream",
          "name": "stdout",
          "text": [
            "5/6\n"
          ]
        }
      ]
    },
    {
      "cell_type": "code",
      "source": [
        "# 10. Demonstrate operator overloading by creating a class Vector and overriding the add method to add two\n",
        "# vectors\n",
        "\n",
        "class Vector:\n",
        "  def __init__(self,x,y):\n",
        "    self.x = x\n",
        "    self.y = y\n",
        "  def __add__(self,other):\n",
        "    newx = self.x + other.x\n",
        "    newy = self.y+other.y\n",
        "    return (newx,newy)\n",
        "v=Vector(4,6)\n",
        "v2=Vector(7,8)\n",
        "v3 = v+v2\n",
        "print(v3)"
      ],
      "metadata": {
        "colab": {
          "base_uri": "https://localhost:8080/"
        },
        "id": "kMq2IMjGVWlV",
        "outputId": "15c98687-b5a6-4aaa-b998-108e5d7fe3aa"
      },
      "execution_count": 43,
      "outputs": [
        {
          "output_type": "stream",
          "name": "stdout",
          "text": [
            "(11, 14)\n"
          ]
        }
      ]
    },
    {
      "cell_type": "code",
      "source": [
        "# 11. Create a class Person with attributes name and age. Add a method greet() that prints \"Hello, my name is\n",
        "# {name} and I am {age} years old.\"\n",
        "\n",
        "class Person:\n",
        "  def __init__(self,name,age):\n",
        "    self.name = name\n",
        "    self.age = age\n",
        "  def greet(self):\n",
        "    print(f'Hello, my name is {self.name} and I am {self.age} years old')\n",
        "p = Person(\"Satwinder\",21)\n",
        "p.greet()"
      ],
      "metadata": {
        "colab": {
          "base_uri": "https://localhost:8080/"
        },
        "id": "PQSE3apVVYmY",
        "outputId": "2560e98b-32b8-4010-a8e7-c3e11fd9eb0a"
      },
      "execution_count": 19,
      "outputs": [
        {
          "output_type": "stream",
          "name": "stdout",
          "text": [
            "Hello, my name is Satwinder and I am 21 years old\n"
          ]
        }
      ]
    },
    {
      "cell_type": "code",
      "source": [
        "# 12. Implement a class Student with attributes name and grades. Create a method average_grade() to compute\n",
        "# the average of the grades.\n",
        "\n",
        "class Student:\n",
        "  def __init__(self,name,grades):\n",
        "    self.name = name\n",
        "    self.grades = grades\n",
        "  def average_grade(self):\n",
        "    return sum(self.grades)/len(self.grades)\n",
        "s = Student(\"Alice\",[23,45,32,55,65])\n",
        "print(\"Average Grade of Student:\",s.average_grade())"
      ],
      "metadata": {
        "colab": {
          "base_uri": "https://localhost:8080/"
        },
        "id": "lXqWBlUGVZ1P",
        "outputId": "808de0ae-99f2-4b42-ee9f-c7105a22610b"
      },
      "execution_count": 21,
      "outputs": [
        {
          "output_type": "stream",
          "name": "stdout",
          "text": [
            "Average Grade of Student: 44.0\n"
          ]
        }
      ]
    },
    {
      "cell_type": "code",
      "source": [
        "# 13.Create a class Rectangle with methods set_dimensions() to set the dimensions and area() to calculate the\n",
        "# area.\n",
        "\n",
        "class Rectangle:\n",
        "  def set_dimensions(self):\n",
        "    self.length = int(input(\"Enter Length:\"))\n",
        "    self.breadth = int(input(\"Enter Breadth:\"))\n",
        "  def area(self):\n",
        "    print(\"Area Of Rectangle:\",(self.length*self.breadth))\n",
        "\n",
        "r = Rectangle()\n",
        "r.set_dimensions()\n",
        "r.area()"
      ],
      "metadata": {
        "colab": {
          "base_uri": "https://localhost:8080/"
        },
        "id": "hqdt78JCVanW",
        "outputId": "07d315a2-b377-4182-a406-33fc74686e10"
      },
      "execution_count": 26,
      "outputs": [
        {
          "output_type": "stream",
          "name": "stdout",
          "text": [
            "Enter Length:5\n",
            "Enter Breadth:8\n",
            "Area Of Rectangle: 40\n"
          ]
        }
      ]
    },
    {
      "cell_type": "code",
      "source": [
        "# 14. Create a class Employee with a method calculate_salary() that computes the salary based on hours worked\n",
        "# and hourly rate. Create a derived class Manager that adds a bonus to the salary.\n",
        "\n",
        "class Employee:\n",
        "  def __init__(self,name,hours_worked,hourly_rate):\n",
        "    self.name = name\n",
        "    self.hours_worked = hours_worked\n",
        "    self.hourly_rate = hourly_rate\n",
        "  def calculate_salary(self):\n",
        "    salary = self.hours_worked * self.hourly_rate\n",
        "    return salary\n",
        "class Manager(Employee):\n",
        "  def __init__(self, name, hours_worked, hourly_rate,bonus):\n",
        "    super().__init__(name, hours_worked, hourly_rate)\n",
        "    self.bonus = bonus\n",
        "  def calculate_salary(self):\n",
        "    return super().calculate_salary()+self.bonus\n",
        "\n",
        "mng = Manager(\"Alice\",24,12,2000)\n",
        "print(\"Salary =\",mng.calculate_salary())"
      ],
      "metadata": {
        "colab": {
          "base_uri": "https://localhost:8080/"
        },
        "id": "Ok3M_mYzVbcg",
        "outputId": "8adf8f83-c115-496d-b25b-f6b6ad9d9f2e"
      },
      "execution_count": 32,
      "outputs": [
        {
          "output_type": "stream",
          "name": "stdout",
          "text": [
            "Salary = 2288\n"
          ]
        }
      ]
    },
    {
      "cell_type": "code",
      "source": [
        "# 15.. Create a class Product with attributes name, price, and quantity. Implement a method total_price() that\n",
        "# calculates the total price of the product\n",
        "\n",
        "class Product:\n",
        "  def __init__(self,name,price,quantity):\n",
        "    self.name = name\n",
        "    self.price = price\n",
        "    self.quantity = quantity\n",
        "  def total_price(self):\n",
        "    total = self.price * self.quantity   # to calculate total price = per item * quantity\n",
        "    print(f'Toatl Price of Product {self.name} is {total}')\n",
        "p1 = Product(\"Pen\",5,12)\n",
        "p1.total_price()\n"
      ],
      "metadata": {
        "colab": {
          "base_uri": "https://localhost:8080/"
        },
        "id": "8dlOCOF1VcUp",
        "outputId": "37981d2d-752e-455a-e999-d5f6387856bb"
      },
      "execution_count": 34,
      "outputs": [
        {
          "output_type": "stream",
          "name": "stdout",
          "text": [
            "Toatl Price of Product Pen is 60\n"
          ]
        }
      ]
    },
    {
      "cell_type": "code",
      "source": [
        "# 16. Create a class Animal with an abstract method sound(). Create two derived classes Cow and Sheep that\n",
        "# implement the sound() method.\n",
        "\n",
        "from abc import ABC,abstractmethod\n",
        "class Animal(ABC):\n",
        "  @abstractmethod\n",
        "  def sound(self):\n",
        "    pass\n",
        "class Cow(Animal):\n",
        "  def sound(self):\n",
        "    print(\"Moo!\")\n",
        "class Sheep(Animal):\n",
        "  def sound(self):\n",
        "    print(\"Baa!\")\n",
        "\n",
        "cow = Cow()\n",
        "cow.sound()\n",
        "sheep = Sheep()\n",
        "sheep.sound()\n"
      ],
      "metadata": {
        "colab": {
          "base_uri": "https://localhost:8080/"
        },
        "id": "Pi5EqYR3VdRR",
        "outputId": "d17aeda7-f9a3-47f0-b321-c200f2a062be"
      },
      "execution_count": 36,
      "outputs": [
        {
          "output_type": "stream",
          "name": "stdout",
          "text": [
            "Moo!\n",
            "Baa!\n"
          ]
        }
      ]
    },
    {
      "cell_type": "code",
      "source": [
        "# 17. Create a class Book with attributes title, author, and year_published. Add a method get_book_info() that\n",
        "# returns a formatted string with the book's details.\n",
        "\n",
        "class Book:\n",
        "  def __init__(self,title,author,year_published):\n",
        "    self.title = title\n",
        "    self.author = author\n",
        "    self.year_published = year_published\n",
        "  def get_book_info(self):\n",
        "    return f\"Title of Book: {self.title}, Author Name: {self.author}, Published in {self.year_published}\"\n",
        "b = Book(\"Main Tumhe Phir Milungi\",\"Amrita Pritam\",2004)\n",
        "b.get_book_info()"
      ],
      "metadata": {
        "colab": {
          "base_uri": "https://localhost:8080/",
          "height": 36
        },
        "id": "Re2xHzdwVeHt",
        "outputId": "d4f9307d-b7b7-43c4-dd21-8fa5ca7963e0"
      },
      "execution_count": 38,
      "outputs": [
        {
          "output_type": "execute_result",
          "data": {
            "text/plain": [
              "'Title of Book: Main Tumhe Phir Milungi, Author Name: Amrita Pritam, Published in 2004'"
            ],
            "application/vnd.google.colaboratory.intrinsic+json": {
              "type": "string"
            }
          },
          "metadata": {},
          "execution_count": 38
        }
      ]
    },
    {
      "cell_type": "code",
      "source": [
        "# 18.Create a class House with attributes address and price. Create a derived class Mansion that adds an\n",
        "# attribute number_of_rooms.\n",
        "\n",
        "class House:\n",
        "  def __init__(self,address,price):\n",
        "    self.address = address\n",
        "    self.price = price\n",
        "  def info(self):\n",
        "    print(f'Adress of house:{self.address},Price:{self.price}')\n",
        "class Mansion(House):\n",
        "  def __init__(self, address, price,number_of_rooms):\n",
        "    super().__init__(address, price)\n",
        "    self.number_of_rooms = number_of_rooms\n",
        "  def info(self):\n",
        "    super().info()\n",
        "    print(f'Number Of Rooms:{self.number_of_rooms}')\n",
        "m = Mansion(\"Raipur,Jalndhar,Punjab\",400000,7)\n",
        "m.info()"
      ],
      "metadata": {
        "colab": {
          "base_uri": "https://localhost:8080/"
        },
        "id": "8_--PAIdVe_U",
        "outputId": "6bf0086a-8db0-4a03-a6ae-a9888947900f"
      },
      "execution_count": 35,
      "outputs": [
        {
          "output_type": "stream",
          "name": "stdout",
          "text": [
            "Adress of house:Raipur,Jalndhar,Punjab,Price:400000\n",
            "Number Of Rooms:7\n"
          ]
        }
      ]
    }
  ]
}