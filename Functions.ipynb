{
  "nbformat": 4,
  "nbformat_minor": 0,
  "metadata": {
    "colab": {
      "provenance": []
    },
    "kernelspec": {
      "name": "python3",
      "display_name": "Python 3"
    },
    "language_info": {
      "name": "python"
    }
  },
  "cells": [
    {
      "cell_type": "markdown",
      "source": [
        "***THEORY QUESTIONS***\n",
        "\n",
        "---\n",
        "\n"
      ],
      "metadata": {
        "id": "4QAd5Qn6E0lR"
      }
    },
    {
      "cell_type": "markdown",
      "source": [
        "Q1: What is the difference between a function and a method in Python?\n",
        "\n",
        "\n",
        "---\n",
        "ANS: Function is structured and resuable block of code that performs some specific tasks whereas, Method is a function that is defined inside the class and associated with concept of classes and objects.\n",
        "* Functions are not bound with class or object while methods are connect with class and object\n",
        "* Functions can be called by it's name itself whereas methods are invoked with the help of objects.\n",
        "* Function can or cannot have parameters but in methods self parameter is necessary which refers to instance (object created for class).\n",
        "\n",
        "\n",
        "\n",
        "\n",
        "```\n",
        "# Example of Function\n",
        "def greet():\n",
        "    print(\"Hello!\")\n",
        "greet()\n",
        "```\n",
        "\n",
        "\n",
        "```\n",
        "# Example of Method\n",
        "Class Greetings:\n",
        "    def greet(self):\n",
        "        print(\"Hello!\")\n",
        "g = Greetings()\n",
        "g.greet()\n",
        "```\n",
        "\n",
        "\n",
        "\n",
        "\n",
        "\n"
      ],
      "metadata": {
        "id": "UfP6B0q3E_yv"
      }
    },
    {
      "cell_type": "markdown",
      "source": [
        "Q2: Explain the concept of function arguments and parameters in Python.\n",
        "\n",
        "\n",
        "---\n",
        "ANS: Parameters are the variables or values passed to function in paranthesis while declaration of a function.They act as placeholders for actual values.\n",
        "Arguments are the actual values of parameters pass to a function while calling the function. Arguments are of four types:\n",
        "* Positional arguments: values must matched with position of parameters.\n",
        "* Default arguments: if not defined while calling, will use the value of declaration function parameters.\n",
        "* Keyword arguments: matched by names not by positions\n",
        "* Variable-Length arguments (*args,**kwargs): when no. of values not known, it means it accepts multiple agruments. *args: values accepted as tuples. **kwargs: values accepted as key value pair.\n",
        "\n",
        "\n",
        "```\n",
        "# Example:\n",
        "def greet(name):     # name as parameter\n",
        "   print(f'Hello,{name}')\n",
        "greet(\"Sakshi\")      # \"Sakshi\" as agrument or actual value to name\n",
        "```\n",
        "\n",
        "\n",
        "\n",
        "\n",
        "\n",
        "\n",
        "\n",
        "\n"
      ],
      "metadata": {
        "id": "UR2s8wzyJHLe"
      }
    },
    {
      "cell_type": "markdown",
      "source": [
        "Q3: What are the different ways to define and call a function in Python?\n",
        "\n",
        "\n",
        "---\n",
        "ANS: Following are different ways to define and call a function:\n",
        "* Function without Parameters and without return value:\n",
        "```\n",
        "# Example:\n",
        "def Student():\n",
        "    print(\"Hello!\")\n",
        "Student()\n",
        "```\n",
        "* Function with Parameter and with return value:\n",
        "```\n",
        "# Example:\n",
        "def add(a,b):\n",
        "    return a+b\n",
        "add(5,6)\n",
        "```\n",
        "* Function without Parameter and with return value:\n",
        "```\n",
        "# Example:\n",
        "def Student():\n",
        "    return \"Strundents are studying\"\n",
        "Student()\n",
        "```\n",
        "* Function with parameter and without return value:\n",
        "```\n",
        "# Example:\n",
        "def greet(name):\n",
        "    print(f'Hello,{name}')\n",
        "greet(\"Shiwani\")\n",
        "```\n",
        "\n",
        "\n",
        "\n",
        "\n"
      ],
      "metadata": {
        "id": "EhmU8yf7MYVC"
      }
    },
    {
      "cell_type": "markdown",
      "source": [
        "Q4: What is the purpose of the return statement in a Python function?\n",
        "\n",
        "\n",
        "---\n",
        "ANS: Return statement returns the value (of any data type) if no value is specified it will return None. The purpose of this statement is to return the value whatever it is given to return statement while function calling and it end's the function execution after returning the result.\n",
        "It not only return the result but also stores,reused or passed to another function\n",
        "\n",
        "\n",
        "```\n",
        "#Example\n",
        "def add(a,b):\n",
        "   return a+b\n",
        "c = add(4,5)  \n",
        "print(c)\n",
        "```\n",
        "\n",
        "\n"
      ],
      "metadata": {
        "id": "HXKMnPyIPqKw"
      }
    },
    {
      "cell_type": "markdown",
      "source": [
        "Q5: What are iterators in Python and how do they differ from iterables?\n",
        "\n",
        "\n",
        "---\n",
        "ANS: Iterator is an object in python which is used to traverse through a sequence, one element at a time. It is also used to iterate over objects like tuples,lists,strings. iter() is used to create an object and next() is used\n",
        "to fetch the value.\n",
        "* Iterator is different from iterable because iterator is an object that does the looping while iterables are looped over sequence.\n",
        "*  Iterators fetch the value one at a time while iterable perform all iteration and then provide the value all at a time.\n",
        "\n",
        "\n",
        "```\n",
        "# example:\n",
        "l = iter([1,2,3])\n",
        "l            # iterator object\n",
        "next(l)        # return 1\n",
        "next(l)         # 2\n",
        "next(l)        # 3\n",
        "```\n",
        "\n",
        "\n",
        "\n",
        "\n"
      ],
      "metadata": {
        "id": "KqBtyPdUS-cB"
      }
    },
    {
      "cell_type": "markdown",
      "source": [
        "Q6: Explain the concept of generators in Python and how they are defined?\n",
        "\n",
        "\n",
        "---\n",
        "ANS: Generators are a simple way to create iterators using functions and the yield keyword instead of returning values.\n",
        "* yield statement is used to create generators.\n",
        "* returns an iterator objects which can be looped over.\n",
        "\n",
        "\n",
        "```\n",
        "# Example:\n",
        "def square_no(n):\n",
        "    for i in range(n):\n",
        "        yield i**2\n",
        "a = square_no(3)   # it is generator similar to iterator object\n",
        "a\n",
        "next(a)  # return 0\n",
        "next(a)    # 1\n",
        "next(a)     # 4\n",
        "```\n",
        "\n",
        "\n",
        "\n",
        "\n"
      ],
      "metadata": {
        "id": "IBkCjOFSVCz4"
      }
    },
    {
      "cell_type": "markdown",
      "source": [
        "Q7: What are the advantages of using generators over regular functions?\n",
        "\n",
        "\n",
        "---\n",
        "ANS: Advantages of Generator over Regular functions:\n",
        "*  Generator, result is provided one by one while regular function stores all at one and give result.\n",
        "* Generator pauses and resumes when required while regular function run all at once.\n",
        "* Generator are best for larger data while regular function are slower.\n",
        "* Generator store result and remeber where it left while regular function have no memory for previous calls\n",
        "\n",
        "\n",
        "```\n",
        "# regular function\n",
        "def sqr(list1):\n",
        "   return [i**2 for i in list1]\n",
        "print(sqr([1,3,5])) # [1,9,5]\n",
        "\n",
        "# Generator\n",
        "def sqr(list1)\n",
        "    yield [i**2 for i in list1]\n",
        "g = sqr([1,2,3])\n",
        "next(g)  # 1\n",
        "next(g)  # 4\n",
        "next(g)  # 9\n",
        "```\n",
        "\n",
        "\n",
        "\n",
        "\n"
      ],
      "metadata": {
        "id": "HnhVKQopW4OM"
      }
    },
    {
      "cell_type": "markdown",
      "source": [
        "Q8: What is a lambda function in Python and when is it typically used?\n",
        "\n",
        "\n",
        "---\n",
        "ANS: Lambda functions in Python  are small, anonymous functions. Function is defined using the lambda keyword. They are used for creating small, throwaway functions, something concise and use at limited scope, that does not need to  define with  a function using def. Syntax:\n",
        "\n",
        "lambda argument : expression\n",
        "\n",
        "They contain single expression\n",
        "```\n",
        "# Example:\n",
        " Sq_lam = lambda x : x**2\n",
        " Sq_lam(4)\n",
        "```\n",
        "\n",
        "\n",
        "\n"
      ],
      "metadata": {
        "id": "l_6HB9V0ZZAV"
      }
    },
    {
      "cell_type": "markdown",
      "source": [
        "Q9: Explain the purpose and usage of the map() function in Python.\n",
        "\n",
        "\n",
        "---\n",
        "ANS: The map() function applies a given function to all items in an input iterable and returns an iterator with the results. The purpose of map() is\n",
        "to transform each item in an iterable by applying the specified function. Syntax:\n",
        "\n",
        "map(function, iterable)\n",
        "\n",
        "\n",
        "```\n",
        "# Example:\n",
        "def sq(x):\n",
        "    return x**2\n",
        "l = [1,2,3,4]\n",
        "map(sq,l) # create iterator object\n",
        "list(map(sq,l)) # give output [1,4,9,16]\n",
        "```\n",
        "\n",
        "\n"
      ],
      "metadata": {
        "id": "8X5Ws3HSbF68"
      }
    },
    {
      "cell_type": "markdown",
      "source": [
        "Q10: What is the difference between `map()`, `reduce()`, and `filter()` functions in Python?\n",
        "\n",
        "\n",
        "---\n",
        "ANS:\n",
        "* map() : applies function to all item in iterable and results an iterator object, usage tranformation.\n",
        "*  reduce() : applies the function to reduce iterable to single value and returns single value , usage like max,min,sum,etc.\n",
        "* filter() : it will filter the result by satifying given condition returns a filtered value, usage like extracting elements.\n",
        "\n",
        "\n",
        "```\n",
        "# map function\n",
        "def cube_no(tup1):\n",
        "    return [x**3 for x in tup1]\n",
        "tup1 = (1,2,3)\n",
        "map(cube_no,tup1)\n",
        "tuple(map(cube_no,tup1)) # (1,8,27)\n",
        "\n",
        "# reduce function\n",
        "from functools import reduce\n",
        "num = [1, 2, 3, 4]\n",
        "product = reduce(lambda x, y: x * y, num)\n",
        "print(product)  # 24\n",
        "\n",
        "# filter function\n",
        "def even_(x):\n",
        "    return x % 2 == 0\n",
        "x = [1, 2, 3, 4, 5]\n",
        "evens = list(filter(even_, x))\n",
        "print(evens) # [2,4]\n",
        "```\n",
        "\n",
        "\n",
        "\n"
      ],
      "metadata": {
        "id": "qewfdpbucywA"
      }
    },
    {
      "cell_type": "markdown",
      "source": [
        "Q11:  Using pen & Paper write the internal mechanism for sum operation using  reduce function on this given\n",
        "list:[47,11,42,13];\n",
        "\n",
        "\n",
        "---\n",
        "ANS:![WhatsApp Image 2025-09-21 at 12.34.13_61d5e65e.jpg](data:image/jpeg;base64,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)\n"
      ],
      "metadata": {
        "id": "_WeyhanBfzQj"
      }
    },
    {
      "cell_type": "markdown",
      "source": [
        "***PRACTICAL QUESTIONS***\n",
        "\n",
        "---\n",
        "\n",
        "\n"
      ],
      "metadata": {
        "id": "rZ1fAoJN0G_I"
      }
    },
    {
      "cell_type": "code",
      "source": [
        "# 1. Write a Python function that takes a list of numbers as input and returns the sum of all even numbers in the list.\n",
        "\n",
        "def even_sum(num):\n",
        "  total = 0\n",
        "  for i in num:\n",
        "    if i%2 == 0:\n",
        "      total += i\n",
        "  return total\n",
        "num = input(\"Enter values:\").split()\n",
        "num = [int(i) for i in num]\n",
        "print(num)\n",
        "print(even_sum(num))\n"
      ],
      "metadata": {
        "colab": {
          "base_uri": "https://localhost:8080/"
        },
        "id": "0yMa6v347aar",
        "outputId": "4e9b083c-d312-4001-a33d-08cff0bbbbfc"
      },
      "execution_count": null,
      "outputs": [
        {
          "output_type": "stream",
          "name": "stdout",
          "text": [
            "Enter values:1 2 3 16 8 9 13\n",
            "[1, 2, 3, 16, 8, 9, 13]\n",
            "26\n"
          ]
        }
      ]
    },
    {
      "cell_type": "code",
      "source": [
        "# 2.Create a Python function that accepts a string and returns the reverse of that string.\n",
        "\n",
        "def reverse_string(Str):\n",
        "  return Str[::-1]\n",
        "Str = input(\"Enter String:\")\n",
        "print(\"Reversed String:\",reverse_string(Str))"
      ],
      "metadata": {
        "colab": {
          "base_uri": "https://localhost:8080/"
        },
        "id": "5GndoepG7ea-",
        "outputId": "b3dfd344-edd3-4e0c-a598-af32eea39727"
      },
      "execution_count": null,
      "outputs": [
        {
          "output_type": "stream",
          "name": "stdout",
          "text": [
            "Enter String:Hello\n",
            "Reversed String: olleH\n"
          ]
        }
      ]
    },
    {
      "cell_type": "code",
      "source": [
        "# 3. Implement a Python function that takes a list of integers and returns a new list containing the squares of each number.\n",
        "\n",
        "def sqr_list(list1):\n",
        "  return [x**2 for x in list1]\n",
        "list1 = input(\"Enter Value:\").split()\n",
        "list1 = [int(i) for i in list1]\n",
        "print(list1)\n",
        "print(\"New List:\",sqr_list(list1))"
      ],
      "metadata": {
        "colab": {
          "base_uri": "https://localhost:8080/"
        },
        "id": "srO_K6ry8BWi",
        "outputId": "3fce5aef-29eb-4e49-8347-89b016bdda95"
      },
      "execution_count": null,
      "outputs": [
        {
          "output_type": "stream",
          "name": "stdout",
          "text": [
            "Enter Value:1 2 4 5 7 8 9\n",
            "[1, 2, 4, 5, 7, 8, 9]\n",
            "New List: [1, 4, 16, 25, 49, 64, 81]\n"
          ]
        }
      ]
    },
    {
      "cell_type": "code",
      "source": [
        "# 4. Write a Python function that checks if a given number is prime or not from 1 to 200.\n",
        "\n",
        "def is_prime(num):\n",
        "  if num < 2:\n",
        "    return False\n",
        "  for i in range(2,int(num**0.5)+1):\n",
        "    if num % i == 0:\n",
        "      return False\n",
        "  return True\n",
        "for num in range(1,201):\n",
        "  if is_prime(num):\n",
        "    print(num,end=\" \")\n",
        "\n"
      ],
      "metadata": {
        "colab": {
          "base_uri": "https://localhost:8080/"
        },
        "id": "Z7xOWvL581rV",
        "outputId": "af851157-30a3-446e-813b-5f09e2b4b793"
      },
      "execution_count": null,
      "outputs": [
        {
          "output_type": "stream",
          "name": "stdout",
          "text": [
            "2 3 5 7 11 13 17 19 23 29 31 37 41 43 47 53 59 61 67 71 73 79 83 89 97 101 103 107 109 113 127 131 137 139 149 151 157 163 167 173 179 181 191 193 197 199 "
          ]
        }
      ]
    },
    {
      "cell_type": "code",
      "source": [
        "# 5.Create an iterator class in Python that generates the Fibonacci sequence up to a specified number of terms.\n",
        "\n",
        "def fib(n):\n",
        "  a = 0\n",
        "  b = 1\n",
        "  for i in range(n):\n",
        "    yield a\n",
        "    a,b = b,a+b\n",
        "f = fib(100)\n",
        "print(f)\n",
        "next(f)\n",
        "next(f)\n",
        "next(f)  # next() till upto given fibonacci sequence"
      ],
      "metadata": {
        "id": "wwBR6GFx_g9Q",
        "colab": {
          "base_uri": "https://localhost:8080/"
        },
        "outputId": "b258603c-24ea-4414-e926-5aa2ca61a281"
      },
      "execution_count": 29,
      "outputs": [
        {
          "output_type": "stream",
          "name": "stdout",
          "text": [
            "<generator object fib at 0x7e085b931a80>\n"
          ]
        },
        {
          "output_type": "execute_result",
          "data": {
            "text/plain": [
              "1"
            ]
          },
          "metadata": {},
          "execution_count": 29
        }
      ]
    },
    {
      "cell_type": "code",
      "source": [
        "# 6.Write a generator function in Python that yields the powers of 2 up to a given exponent.\n",
        "\n",
        "def gen_power(n):\n",
        "  for i in range(n):\n",
        "    yield 2**i\n",
        "a = gen_power(5)\n",
        "a\n",
        "print(next(a))\n",
        "print(next(a))\n",
        "print(next(a))\n",
        "print(next(a))\n",
        "print(next(a))"
      ],
      "metadata": {
        "id": "2-pNSeMT_2Bu",
        "colab": {
          "base_uri": "https://localhost:8080/"
        },
        "outputId": "4044db7c-54f2-4371-aaa1-fbbbd68259f5"
      },
      "execution_count": 11,
      "outputs": [
        {
          "output_type": "stream",
          "name": "stdout",
          "text": [
            "1\n",
            "2\n",
            "4\n",
            "8\n",
            "16\n"
          ]
        }
      ]
    },
    {
      "cell_type": "code",
      "source": [
        "# 7. Implement a generator function that reads a file line by line and yields each line as a string.\n",
        "\n",
        "from google.colab import files\n",
        "uploaded = files.upload()\n",
        "\n",
        "def read_line(file_path):\n",
        "  file = open(file_path,'r')\n",
        "  for line in file:\n",
        "    yield line.strip()\n",
        "  file.close()\n",
        "for line in read_line(\"test.txt\"):\n",
        "  print(line)\n"
      ],
      "metadata": {
        "id": "4M20cwiT_6LX",
        "colab": {
          "base_uri": "https://localhost:8080/",
          "height": 125
        },
        "outputId": "3b4f3440-b21c-485d-e46d-6d93b21fbc31"
      },
      "execution_count": 16,
      "outputs": [
        {
          "output_type": "display_data",
          "data": {
            "text/plain": [
              "<IPython.core.display.HTML object>"
            ],
            "text/html": [
              "\n",
              "     <input type=\"file\" id=\"files-437825c5-a5f1-453d-a60b-2fe41c622213\" name=\"files[]\" multiple disabled\n",
              "        style=\"border:none\" />\n",
              "     <output id=\"result-437825c5-a5f1-453d-a60b-2fe41c622213\">\n",
              "      Upload widget is only available when the cell has been executed in the\n",
              "      current browser session. Please rerun this cell to enable.\n",
              "      </output>\n",
              "      <script>// Copyright 2017 Google LLC\n",
              "//\n",
              "// Licensed under the Apache License, Version 2.0 (the \"License\");\n",
              "// you may not use this file except in compliance with the License.\n",
              "// You may obtain a copy of the License at\n",
              "//\n",
              "//      http://www.apache.org/licenses/LICENSE-2.0\n",
              "//\n",
              "// Unless required by applicable law or agreed to in writing, software\n",
              "// distributed under the License is distributed on an \"AS IS\" BASIS,\n",
              "// WITHOUT WARRANTIES OR CONDITIONS OF ANY KIND, either express or implied.\n",
              "// See the License for the specific language governing permissions and\n",
              "// limitations under the License.\n",
              "\n",
              "/**\n",
              " * @fileoverview Helpers for google.colab Python module.\n",
              " */\n",
              "(function(scope) {\n",
              "function span(text, styleAttributes = {}) {\n",
              "  const element = document.createElement('span');\n",
              "  element.textContent = text;\n",
              "  for (const key of Object.keys(styleAttributes)) {\n",
              "    element.style[key] = styleAttributes[key];\n",
              "  }\n",
              "  return element;\n",
              "}\n",
              "\n",
              "// Max number of bytes which will be uploaded at a time.\n",
              "const MAX_PAYLOAD_SIZE = 100 * 1024;\n",
              "\n",
              "function _uploadFiles(inputId, outputId) {\n",
              "  const steps = uploadFilesStep(inputId, outputId);\n",
              "  const outputElement = document.getElementById(outputId);\n",
              "  // Cache steps on the outputElement to make it available for the next call\n",
              "  // to uploadFilesContinue from Python.\n",
              "  outputElement.steps = steps;\n",
              "\n",
              "  return _uploadFilesContinue(outputId);\n",
              "}\n",
              "\n",
              "// This is roughly an async generator (not supported in the browser yet),\n",
              "// where there are multiple asynchronous steps and the Python side is going\n",
              "// to poll for completion of each step.\n",
              "// This uses a Promise to block the python side on completion of each step,\n",
              "// then passes the result of the previous step as the input to the next step.\n",
              "function _uploadFilesContinue(outputId) {\n",
              "  const outputElement = document.getElementById(outputId);\n",
              "  const steps = outputElement.steps;\n",
              "\n",
              "  const next = steps.next(outputElement.lastPromiseValue);\n",
              "  return Promise.resolve(next.value.promise).then((value) => {\n",
              "    // Cache the last promise value to make it available to the next\n",
              "    // step of the generator.\n",
              "    outputElement.lastPromiseValue = value;\n",
              "    return next.value.response;\n",
              "  });\n",
              "}\n",
              "\n",
              "/**\n",
              " * Generator function which is called between each async step of the upload\n",
              " * process.\n",
              " * @param {string} inputId Element ID of the input file picker element.\n",
              " * @param {string} outputId Element ID of the output display.\n",
              " * @return {!Iterable<!Object>} Iterable of next steps.\n",
              " */\n",
              "function* uploadFilesStep(inputId, outputId) {\n",
              "  const inputElement = document.getElementById(inputId);\n",
              "  inputElement.disabled = false;\n",
              "\n",
              "  const outputElement = document.getElementById(outputId);\n",
              "  outputElement.innerHTML = '';\n",
              "\n",
              "  const pickedPromise = new Promise((resolve) => {\n",
              "    inputElement.addEventListener('change', (e) => {\n",
              "      resolve(e.target.files);\n",
              "    });\n",
              "  });\n",
              "\n",
              "  const cancel = document.createElement('button');\n",
              "  inputElement.parentElement.appendChild(cancel);\n",
              "  cancel.textContent = 'Cancel upload';\n",
              "  const cancelPromise = new Promise((resolve) => {\n",
              "    cancel.onclick = () => {\n",
              "      resolve(null);\n",
              "    };\n",
              "  });\n",
              "\n",
              "  // Wait for the user to pick the files.\n",
              "  const files = yield {\n",
              "    promise: Promise.race([pickedPromise, cancelPromise]),\n",
              "    response: {\n",
              "      action: 'starting',\n",
              "    }\n",
              "  };\n",
              "\n",
              "  cancel.remove();\n",
              "\n",
              "  // Disable the input element since further picks are not allowed.\n",
              "  inputElement.disabled = true;\n",
              "\n",
              "  if (!files) {\n",
              "    return {\n",
              "      response: {\n",
              "        action: 'complete',\n",
              "      }\n",
              "    };\n",
              "  }\n",
              "\n",
              "  for (const file of files) {\n",
              "    const li = document.createElement('li');\n",
              "    li.append(span(file.name, {fontWeight: 'bold'}));\n",
              "    li.append(span(\n",
              "        `(${file.type || 'n/a'}) - ${file.size} bytes, ` +\n",
              "        `last modified: ${\n",
              "            file.lastModifiedDate ? file.lastModifiedDate.toLocaleDateString() :\n",
              "                                    'n/a'} - `));\n",
              "    const percent = span('0% done');\n",
              "    li.appendChild(percent);\n",
              "\n",
              "    outputElement.appendChild(li);\n",
              "\n",
              "    const fileDataPromise = new Promise((resolve) => {\n",
              "      const reader = new FileReader();\n",
              "      reader.onload = (e) => {\n",
              "        resolve(e.target.result);\n",
              "      };\n",
              "      reader.readAsArrayBuffer(file);\n",
              "    });\n",
              "    // Wait for the data to be ready.\n",
              "    let fileData = yield {\n",
              "      promise: fileDataPromise,\n",
              "      response: {\n",
              "        action: 'continue',\n",
              "      }\n",
              "    };\n",
              "\n",
              "    // Use a chunked sending to avoid message size limits. See b/62115660.\n",
              "    let position = 0;\n",
              "    do {\n",
              "      const length = Math.min(fileData.byteLength - position, MAX_PAYLOAD_SIZE);\n",
              "      const chunk = new Uint8Array(fileData, position, length);\n",
              "      position += length;\n",
              "\n",
              "      const base64 = btoa(String.fromCharCode.apply(null, chunk));\n",
              "      yield {\n",
              "        response: {\n",
              "          action: 'append',\n",
              "          file: file.name,\n",
              "          data: base64,\n",
              "        },\n",
              "      };\n",
              "\n",
              "      let percentDone = fileData.byteLength === 0 ?\n",
              "          100 :\n",
              "          Math.round((position / fileData.byteLength) * 100);\n",
              "      percent.textContent = `${percentDone}% done`;\n",
              "\n",
              "    } while (position < fileData.byteLength);\n",
              "  }\n",
              "\n",
              "  // All done.\n",
              "  yield {\n",
              "    response: {\n",
              "      action: 'complete',\n",
              "    }\n",
              "  };\n",
              "}\n",
              "\n",
              "scope.google = scope.google || {};\n",
              "scope.google.colab = scope.google.colab || {};\n",
              "scope.google.colab._files = {\n",
              "  _uploadFiles,\n",
              "  _uploadFilesContinue,\n",
              "};\n",
              "})(self);\n",
              "</script> "
            ]
          },
          "metadata": {}
        },
        {
          "output_type": "stream",
          "name": "stdout",
          "text": [
            "Saving test.txt to test (2).txt\n",
            "Hello!.\n",
            "This is simple text file.\n",
            "just for reading file line by line.\n"
          ]
        }
      ]
    },
    {
      "cell_type": "code",
      "source": [
        "# 8. Use a lambda function in Python to sort a list of tuples based on the second element of each tuple.\n",
        "\n",
        "list_tuple = [(1,2,3),(4,5),(6,7,5),(9,12,5),(2,3,8)]\n",
        "sorting = sorted(list_tuple, key= lambda x : x[1])\n",
        "sorting"
      ],
      "metadata": {
        "id": "9DuQuLlR_-og",
        "colab": {
          "base_uri": "https://localhost:8080/"
        },
        "outputId": "85da4f2d-c85a-426c-bf62-e651fb81f7fc"
      },
      "execution_count": 18,
      "outputs": [
        {
          "output_type": "execute_result",
          "data": {
            "text/plain": [
              "[(1, 2, 3), (2, 3, 8), (4, 5), (6, 7, 5), (9, 12, 5)]"
            ]
          },
          "metadata": {},
          "execution_count": 18
        }
      ]
    },
    {
      "cell_type": "code",
      "source": [
        "# 9.Write a Python program that uses `map()` to convert a list of temperatures from Celsius to Fahrenheit.\n",
        "\n",
        "celsius = [32,30,45,4,25]\n",
        "Fahrenheit =list(map(lambda x : (x*9/5)+32,celsius))\n",
        "Fahrenheit\n"
      ],
      "metadata": {
        "id": "i8FbcMHQAC2k",
        "colab": {
          "base_uri": "https://localhost:8080/"
        },
        "outputId": "1caa4173-b2b4-4acc-ca4c-3359bb48fec0"
      },
      "execution_count": 19,
      "outputs": [
        {
          "output_type": "execute_result",
          "data": {
            "text/plain": [
              "[89.6, 86.0, 113.0, 39.2, 77.0]"
            ]
          },
          "metadata": {},
          "execution_count": 19
        }
      ]
    },
    {
      "cell_type": "code",
      "source": [
        "# 10.  Create a Python program that uses `filter()` to remove all the vowels from a given string.\n",
        "\n",
        "Word = input(\"Enter String:\")\n",
        "vowels = \"aeiouAEIOU\"\n",
        "result = filter(lambda ch : ch not in vowels, Word)\n",
        "filtered_string = ''.join(result)\n",
        "filtered_string"
      ],
      "metadata": {
        "id": "TzKE_9NBAHoh",
        "colab": {
          "base_uri": "https://localhost:8080/",
          "height": 53
        },
        "outputId": "56a404ad-8985-461a-d2b3-53ffe8e32266"
      },
      "execution_count": 23,
      "outputs": [
        {
          "name": "stdout",
          "output_type": "stream",
          "text": [
            "Enter String:hello\n"
          ]
        },
        {
          "output_type": "execute_result",
          "data": {
            "text/plain": [
              "'hll'"
            ],
            "application/vnd.google.colaboratory.intrinsic+json": {
              "type": "string"
            }
          },
          "metadata": {},
          "execution_count": 23
        }
      ]
    },
    {
      "cell_type": "code",
      "source": [
        "# 11. Imagine an accounting routine used in a book shop. It works on a list with sublists, which look like this:\n",
        "\n",
        "# Write a Python program, which returns a list with 2-tuples. Each tuple consists of the order number and the\n",
        "# product of the price per item and the quantity. The product should be increased by 10,- € if the value of the\n",
        "# order is smaller than 100,00 €.\n",
        "\n",
        "# Write a Python program using lambda and map.\n",
        "\n",
        "book_shop = [[34587, \"Learning Python, Mark Lutz\",4,40.95],\n",
        " [98762,\"Programming Python, Mark Lutz\",5,56.80],\n",
        "  [77226,\"Head First Python, Paul Barry\",3,32.95],\n",
        "   [88112,\"Einfuhrung in Python3, Bernd Klein\",3,24.99]]\n",
        "def accounting(Book):\n",
        "  return list(map(lambda x : ( x[0], (x[2]*x[3]) + 10 if (x[2]*x[3]) < 100 else (x[2]*x[3])) ,Book))\n",
        "print(accounting(book_shop))"
      ],
      "metadata": {
        "id": "y0DDsISZALhw",
        "colab": {
          "base_uri": "https://localhost:8080/"
        },
        "outputId": "33ba93b4-cf4c-476b-bc80-6629cdbca53b"
      },
      "execution_count": 33,
      "outputs": [
        {
          "output_type": "stream",
          "name": "stdout",
          "text": [
            "[(34587, 163.8), (98762, 284.0), (77226, 108.85000000000001), (88112, 84.97)]\n"
          ]
        }
      ]
    }
  ]
}